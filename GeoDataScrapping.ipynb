{
 "cells": [
  {
   "cell_type": "code",
   "execution_count": 1,
   "id": "068580a1",
   "metadata": {
    "_cell_guid": "b1076dfc-b9ad-4769-8c92-a6c4dae69d19",
    "_uuid": "8f2839f25d086af736a60e9eeb907d3b93b6e0e5",
    "execution": {
     "iopub.execute_input": "2024-05-29T06:48:41.304537Z",
     "iopub.status.busy": "2024-05-29T06:48:41.303055Z",
     "iopub.status.idle": "2024-05-29T06:48:42.715932Z",
     "shell.execute_reply": "2024-05-29T06:48:42.714307Z"
    },
    "papermill": {
     "duration": 1.427916,
     "end_time": "2024-05-29T06:48:42.718816",
     "exception": false,
     "start_time": "2024-05-29T06:48:41.290900",
     "status": "completed"
    },
    "tags": []
   },
   "outputs": [],
   "source": [
    "import requests as rq\n",
    "import pandas as pd\n",
    "from bs4 import BeautifulSoup\n",
    "from tqdm import tqdm\n",
    "import json\n",
    "import time"
   ]
  },
  {
   "cell_type": "code",
   "execution_count": 2,
   "id": "1be28f6b",
   "metadata": {
    "execution": {
     "iopub.execute_input": "2024-05-29T06:48:42.739303Z",
     "iopub.status.busy": "2024-05-29T06:48:42.738757Z",
     "iopub.status.idle": "2024-05-29T06:48:42.744460Z",
     "shell.execute_reply": "2024-05-29T06:48:42.743263Z"
    },
    "papermill": {
     "duration": 0.019297,
     "end_time": "2024-05-29T06:48:42.747201",
     "exception": false,
     "start_time": "2024-05-29T06:48:42.727904",
     "status": "completed"
    },
    "tags": []
   },
   "outputs": [],
   "source": [
    "headers = {\n",
    "    \"User-Agent\": \"Mozilla/5.0 (Windows NT 10.0; Win64; x64) AppleWebKit/537.36 (KHTML, like Gecko) Chrome/58.0.3029.110 Safari/537.3\"\n",
    "}"
   ]
  },
  {
   "cell_type": "code",
   "execution_count": 3,
   "id": "4b217453",
   "metadata": {
    "execution": {
     "iopub.execute_input": "2024-05-29T06:48:42.768111Z",
     "iopub.status.busy": "2024-05-29T06:48:42.767299Z",
     "iopub.status.idle": "2024-05-29T06:48:42.773645Z",
     "shell.execute_reply": "2024-05-29T06:48:42.772283Z"
    },
    "papermill": {
     "duration": 0.019953,
     "end_time": "2024-05-29T06:48:42.776311",
     "exception": false,
     "start_time": "2024-05-29T06:48:42.756358",
     "status": "completed"
    },
    "tags": []
   },
   "outputs": [],
   "source": [
    "def get_soup(url):\n",
    "    url = url\n",
    "    r = rq.get(url,headers = headers)\n",
    "    soup = BeautifulSoup(r.text,'html.parser')\n",
    "    return soup"
   ]
  },
  {
   "cell_type": "code",
   "execution_count": 4,
   "id": "62a463a8",
   "metadata": {
    "execution": {
     "iopub.execute_input": "2024-05-29T06:48:42.798335Z",
     "iopub.status.busy": "2024-05-29T06:48:42.797874Z",
     "iopub.status.idle": "2024-05-29T06:48:42.805893Z",
     "shell.execute_reply": "2024-05-29T06:48:42.804344Z"
    },
    "papermill": {
     "duration": 0.02317,
     "end_time": "2024-05-29T06:48:42.808720",
     "exception": false,
     "start_time": "2024-05-29T06:48:42.785550",
     "status": "completed"
    },
    "tags": []
   },
   "outputs": [],
   "source": [
    "def get_all_links(soup):  \n",
    "    listlink = []\n",
    "    links = soup.find_all('a')\n",
    "    for link in links:\n",
    "        part = link['href']\n",
    "        listlink.append(f'https://villageinfo.in{part}')\n",
    "    return listlink"
   ]
  },
  {
   "cell_type": "code",
   "execution_count": 5,
   "id": "43062cda",
   "metadata": {
    "execution": {
     "iopub.execute_input": "2024-05-29T06:48:42.830244Z",
     "iopub.status.busy": "2024-05-29T06:48:42.829266Z",
     "iopub.status.idle": "2024-05-29T06:48:42.837183Z",
     "shell.execute_reply": "2024-05-29T06:48:42.835755Z"
    },
    "papermill": {
     "duration": 0.021004,
     "end_time": "2024-05-29T06:48:42.839726",
     "exception": false,
     "start_time": "2024-05-29T06:48:42.818722",
     "status": "completed"
    },
    "tags": []
   },
   "outputs": [],
   "source": [
    "def get_all_links_table(soup):\n",
    "    listlink = []\n",
    "    table = soup.find('table')\n",
    "    tbody = table.find('tbody')\n",
    "    trs = tbody.find_all('tr')\n",
    "    for tr in trs:\n",
    "        tds = tr.find_all('td')\n",
    "        for td in tds:\n",
    "            if td.find('a') is not None:   \n",
    "                link = td.find('a')\n",
    "                part = link['href']\n",
    "                if part[0] == '/':\n",
    "                    listlink.append(f'https://villageinfo.in{part}')\n",
    "                else:\n",
    "                    listlink.append(f'https://villageinfo.in/{part}')\n",
    "    return listlink"
   ]
  },
  {
   "cell_type": "code",
   "execution_count": 6,
   "id": "4a1d629d",
   "metadata": {
    "execution": {
     "iopub.execute_input": "2024-05-29T06:48:42.859717Z",
     "iopub.status.busy": "2024-05-29T06:48:42.859309Z",
     "iopub.status.idle": "2024-05-29T06:48:42.867580Z",
     "shell.execute_reply": "2024-05-29T06:48:42.865962Z"
    },
    "papermill": {
     "duration": 0.021429,
     "end_time": "2024-05-29T06:48:42.870219",
     "exception": false,
     "start_time": "2024-05-29T06:48:42.848790",
     "status": "completed"
    },
    "tags": []
   },
   "outputs": [],
   "source": [
    "def construct_table(table):\n",
    "    head = table.find('thead')\n",
    "    headlist = []\n",
    "    if head is not None:\n",
    "        heads = head.find_all('th')\n",
    "        for hd in heads:\n",
    "            txt = hd.text\n",
    "            headlist.append(txt)\n",
    "    \n",
    "    body = table.find('tbody')\n",
    "    trslist = body.find_all('tr')\n",
    "    table_body = []\n",
    "    for tr in trslist:\n",
    "        final_row = []\n",
    "        tds = tr.find_all('td')\n",
    "        for td in tds:\n",
    "            final_row.append(td.text)\n",
    "        table_body.append(final_row)\n",
    "        \n",
    "    if len(headlist) != 0:\n",
    "        final_table_list = [headlist] + table_body\n",
    "        return final_table_list\n",
    "    else:\n",
    "        final_table_list = table_body\n",
    "        return final_table_list"
   ]
  },
  {
   "cell_type": "markdown",
   "id": "e3c13aa8",
   "metadata": {
    "papermill": {
     "duration": 0.009451,
     "end_time": "2024-05-29T06:48:42.890499",
     "exception": false,
     "start_time": "2024-05-29T06:48:42.881048",
     "status": "completed"
    },
    "tags": []
   },
   "source": []
  },
  {
   "cell_type": "markdown",
   "id": "197a25b1",
   "metadata": {
    "papermill": {
     "duration": 0.008882,
     "end_time": "2024-05-29T06:48:42.909454",
     "exception": false,
     "start_time": "2024-05-29T06:48:42.900572",
     "status": "completed"
    },
    "tags": []
   },
   "source": [
    "# get states"
   ]
  },
  {
   "cell_type": "code",
   "execution_count": 7,
   "id": "da74494f",
   "metadata": {
    "execution": {
     "iopub.execute_input": "2024-05-29T06:48:42.929906Z",
     "iopub.status.busy": "2024-05-29T06:48:42.929515Z",
     "iopub.status.idle": "2024-05-29T06:48:43.184280Z",
     "shell.execute_reply": "2024-05-29T06:48:43.182918Z"
    },
    "papermill": {
     "duration": 0.268408,
     "end_time": "2024-05-29T06:48:43.186833",
     "exception": false,
     "start_time": "2024-05-29T06:48:42.918425",
     "status": "completed"
    },
    "tags": []
   },
   "outputs": [
    {
     "data": {
      "text/plain": [
       "['https://villageinfo.in/andaman-&-nicobar-islands.html',\n",
       " 'https://villageinfo.in/andhra-pradesh.html',\n",
       " 'https://villageinfo.in/arunachal-pradesh.html',\n",
       " 'https://villageinfo.in/assam.html',\n",
       " 'https://villageinfo.in/bihar.html',\n",
       " 'https://villageinfo.in/chandigarh.html',\n",
       " 'https://villageinfo.in/chhattisgarh.html',\n",
       " 'https://villageinfo.in/dadra-&-nagar-haveli.html',\n",
       " 'https://villageinfo.in/daman-&-diu.html',\n",
       " 'https://villageinfo.in/delhi.html',\n",
       " 'https://villageinfo.in/goa.html',\n",
       " 'https://villageinfo.in/gujarat.html',\n",
       " 'https://villageinfo.in/haryana.html',\n",
       " 'https://villageinfo.in/himachal-pradesh.html',\n",
       " 'https://villageinfo.in/jammu-&-kashmir.html',\n",
       " 'https://villageinfo.in/jharkhand.html',\n",
       " 'https://villageinfo.in/karnataka.html',\n",
       " 'https://villageinfo.in/kerala.html',\n",
       " 'https://villageinfo.in/lakshadweep.html',\n",
       " 'https://villageinfo.in/madhya-pradesh.html',\n",
       " 'https://villageinfo.in/maharashtra.html',\n",
       " 'https://villageinfo.in/manipur.html',\n",
       " 'https://villageinfo.in/meghalaya.html',\n",
       " 'https://villageinfo.in/mizoram.html',\n",
       " 'https://villageinfo.in/nagaland.html',\n",
       " 'https://villageinfo.in/odisha.html',\n",
       " 'https://villageinfo.in/puducherry.html',\n",
       " 'https://villageinfo.in/punjab.html',\n",
       " 'https://villageinfo.in/rajasthan.html',\n",
       " 'https://villageinfo.in/sikkim.html',\n",
       " 'https://villageinfo.in/tamil-nadu.html',\n",
       " 'https://villageinfo.in/telangana.html',\n",
       " 'https://villageinfo.in/tripura.html',\n",
       " 'https://villageinfo.in/uttar-pradesh.html',\n",
       " 'https://villageinfo.in/uttarakhand.html',\n",
       " 'https://villageinfo.in/west-bengal.html',\n",
       " 'https://villageinfo.in/',\n",
       " 'https://villageinfo.in/contact.html',\n",
       " 'https://villageinfo.in/terms.html',\n",
       " 'https://villageinfo.in/privacy.html']"
      ]
     },
     "execution_count": 7,
     "metadata": {},
     "output_type": "execute_result"
    }
   ],
   "source": [
    "url = 'https://villageinfo.in/'\n",
    "soup = get_soup(url)\n",
    "states_list = get_all_links(soup)\n",
    "states_list"
   ]
  },
  {
   "cell_type": "markdown",
   "id": "9516f165",
   "metadata": {
    "papermill": {
     "duration": 0.009055,
     "end_time": "2024-05-29T06:48:43.205174",
     "exception": false,
     "start_time": "2024-05-29T06:48:43.196119",
     "status": "completed"
    },
    "tags": []
   },
   "source": [
    "# get districts in a state"
   ]
  },
  {
   "cell_type": "code",
   "execution_count": 8,
   "id": "b8da1e96",
   "metadata": {
    "execution": {
     "iopub.execute_input": "2024-05-29T06:48:43.228399Z",
     "iopub.status.busy": "2024-05-29T06:48:43.227228Z",
     "iopub.status.idle": "2024-05-29T06:48:43.515209Z",
     "shell.execute_reply": "2024-05-29T06:48:43.513699Z"
    },
    "papermill": {
     "duration": 0.303105,
     "end_time": "2024-05-29T06:48:43.518021",
     "exception": false,
     "start_time": "2024-05-29T06:48:43.214916",
     "status": "completed"
    },
    "tags": []
   },
   "outputs": [
    {
     "data": {
      "text/plain": [
       "['https://villageinfo.in/maharashtra/ahmadnagar.html',\n",
       " 'https://villageinfo.in/maharashtra/akola.html',\n",
       " 'https://villageinfo.in/maharashtra/amravati.html',\n",
       " 'https://villageinfo.in/maharashtra/aurangabad.html',\n",
       " 'https://villageinfo.in/maharashtra/bhandara.html',\n",
       " 'https://villageinfo.in/maharashtra/bid.html',\n",
       " 'https://villageinfo.in/maharashtra/buldana.html',\n",
       " 'https://villageinfo.in/maharashtra/chandrapur.html',\n",
       " 'https://villageinfo.in/maharashtra/dhule.html',\n",
       " 'https://villageinfo.in/maharashtra/gadchiroli.html',\n",
       " 'https://villageinfo.in/maharashtra/gondiya.html',\n",
       " 'https://villageinfo.in/maharashtra/hingoli.html',\n",
       " 'https://villageinfo.in/maharashtra/jalgaon.html',\n",
       " 'https://villageinfo.in/maharashtra/jalna.html',\n",
       " 'https://villageinfo.in/maharashtra/kolhapur.html',\n",
       " 'https://villageinfo.in/maharashtra/latur.html',\n",
       " 'https://villageinfo.in/maharashtra/mumbai.html',\n",
       " 'https://villageinfo.in/maharashtra/mumbai-suburban.html',\n",
       " 'https://villageinfo.in/maharashtra/nagpur.html',\n",
       " 'https://villageinfo.in/maharashtra/nanded.html',\n",
       " 'https://villageinfo.in/maharashtra/nandurbar.html',\n",
       " 'https://villageinfo.in/maharashtra/nashik.html',\n",
       " 'https://villageinfo.in/maharashtra/osmanabad.html',\n",
       " 'https://villageinfo.in/maharashtra/parbhani.html',\n",
       " 'https://villageinfo.in/maharashtra/pune.html',\n",
       " 'https://villageinfo.in/maharashtra/raigarh.html',\n",
       " 'https://villageinfo.in/maharashtra/ratnagiri.html',\n",
       " 'https://villageinfo.in/maharashtra/sangli.html',\n",
       " 'https://villageinfo.in/maharashtra/satara.html',\n",
       " 'https://villageinfo.in/maharashtra/sindhudurg.html',\n",
       " 'https://villageinfo.in/maharashtra/solapur.html',\n",
       " 'https://villageinfo.in/maharashtra/thane.html',\n",
       " 'https://villageinfo.in/maharashtra/wardha.html',\n",
       " 'https://villageinfo.in/maharashtra/washim.html',\n",
       " 'https://villageinfo.in/maharashtra/yavatmal.html']"
      ]
     },
     "execution_count": 8,
     "metadata": {},
     "output_type": "execute_result"
    }
   ],
   "source": [
    "url2 = 'https://villageinfo.in/maharashtra.html'\n",
    "soup2 = get_soup(url2)\n",
    "dist_list = get_all_links_table(soup2)\n",
    "dist_list"
   ]
  },
  {
   "cell_type": "markdown",
   "id": "2f95d3e7",
   "metadata": {
    "papermill": {
     "duration": 0.009077,
     "end_time": "2024-05-29T06:48:43.537399",
     "exception": false,
     "start_time": "2024-05-29T06:48:43.528322",
     "status": "completed"
    },
    "tags": []
   },
   "source": [
    "# Get talukas in a district"
   ]
  },
  {
   "cell_type": "code",
   "execution_count": 9,
   "id": "5364b9d0",
   "metadata": {
    "execution": {
     "iopub.execute_input": "2024-05-29T06:48:43.560355Z",
     "iopub.status.busy": "2024-05-29T06:48:43.559000Z",
     "iopub.status.idle": "2024-05-29T06:48:44.178695Z",
     "shell.execute_reply": "2024-05-29T06:48:44.177347Z"
    },
    "papermill": {
     "duration": 0.635544,
     "end_time": "2024-05-29T06:48:44.183004",
     "exception": false,
     "start_time": "2024-05-29T06:48:43.547460",
     "status": "completed"
    },
    "tags": []
   },
   "outputs": [
    {
     "data": {
      "text/plain": [
       "['https://villageinfo.in/maharashtra/nashik/baglan.html',\n",
       " 'https://villageinfo.in/maharashtra/nashik/chandvad.html',\n",
       " 'https://villageinfo.in/maharashtra/nashik/deola.html',\n",
       " 'https://villageinfo.in/maharashtra/nashik/dindori.html',\n",
       " 'https://villageinfo.in/maharashtra/nashik/igatpuri.html',\n",
       " 'https://villageinfo.in/maharashtra/nashik/kalwan.html',\n",
       " 'https://villageinfo.in/maharashtra/nashik/malegaon.html',\n",
       " 'https://villageinfo.in/maharashtra/nashik/nandgaon.html',\n",
       " 'https://villageinfo.in/maharashtra/nashik/nashik.html',\n",
       " 'https://villageinfo.in/maharashtra/nashik/niphad.html',\n",
       " 'https://villageinfo.in/maharashtra/nashik/peint.html',\n",
       " 'https://villageinfo.in/maharashtra/nashik/sinnar.html',\n",
       " 'https://villageinfo.in/maharashtra/nashik/surgana.html',\n",
       " 'https://villageinfo.in/maharashtra/nashik/trimbakeshwar.html',\n",
       " 'https://villageinfo.in/maharashtra/nashik/yevla.html']"
      ]
     },
     "execution_count": 9,
     "metadata": {},
     "output_type": "execute_result"
    }
   ],
   "source": [
    "url2 = 'https://villageinfo.in/maharashtra/nashik.html'\n",
    "soup2 = get_soup(url2)\n",
    "talukas_list = get_all_links_table(soup2)\n",
    "talukas_list"
   ]
  },
  {
   "cell_type": "markdown",
   "id": "57c19a8a",
   "metadata": {
    "papermill": {
     "duration": 0.009535,
     "end_time": "2024-05-29T06:48:44.204567",
     "exception": false,
     "start_time": "2024-05-29T06:48:44.195032",
     "status": "completed"
    },
    "tags": []
   },
   "source": [
    "# get village in a taluka"
   ]
  },
  {
   "cell_type": "code",
   "execution_count": 10,
   "id": "8bbef757",
   "metadata": {
    "execution": {
     "iopub.execute_input": "2024-05-29T06:48:44.227367Z",
     "iopub.status.busy": "2024-05-29T06:48:44.226549Z",
     "iopub.status.idle": "2024-05-29T06:48:45.030498Z",
     "shell.execute_reply": "2024-05-29T06:48:45.028306Z"
    },
    "papermill": {
     "duration": 0.819446,
     "end_time": "2024-05-29T06:48:45.033501",
     "exception": false,
     "start_time": "2024-05-29T06:48:44.214055",
     "status": "completed"
    },
    "tags": []
   },
   "outputs": [
    {
     "data": {
      "text/plain": [
       "['https://villageinfo.in/maharashtra/nashik/niphad/ahergaon.html',\n",
       " 'https://villageinfo.in/maharashtra/nashik/niphad/amrut-nagar.html',\n",
       " 'https://villageinfo.in/maharashtra/nashik/niphad/antarweli.html',\n",
       " 'https://villageinfo.in/maharashtra/nashik/niphad/aurangpur.html',\n",
       " 'https://villageinfo.in/maharashtra/nashik/niphad/banganganagar.html',\n",
       " 'https://villageinfo.in/maharashtra/nashik/niphad/behed.html',\n",
       " 'https://villageinfo.in/maharashtra/nashik/niphad/bharwas.html',\n",
       " 'https://villageinfo.in/maharashtra/nashik/niphad/bhendali.html',\n",
       " 'https://villageinfo.in/maharashtra/nashik/niphad/bhuse.html',\n",
       " 'https://villageinfo.in/maharashtra/nashik/niphad/bokaddare.html',\n",
       " 'https://villageinfo.in/maharashtra/nashik/niphad/bramhangaon-vanas.html',\n",
       " 'https://villageinfo.in/maharashtra/nashik/niphad/bramhangaon-vinchur.html',\n",
       " 'https://villageinfo.in/maharashtra/nashik/niphad/bramhanwade.html',\n",
       " 'https://villageinfo.in/maharashtra/nashik/niphad/chandori.html',\n",
       " 'https://villageinfo.in/maharashtra/nashik/niphad/chapadgaon.html',\n",
       " 'https://villageinfo.in/maharashtra/nashik/niphad/chatori.html',\n",
       " 'https://villageinfo.in/maharashtra/nashik/niphad/chehedi-kh.html',\n",
       " 'https://villageinfo.in/maharashtra/nashik/niphad/chitegaon.html',\n",
       " 'https://villageinfo.in/maharashtra/nashik/niphad/dahegaon.html',\n",
       " 'https://villageinfo.in/maharashtra/nashik/niphad/darna-sangvi.html',\n",
       " 'https://villageinfo.in/maharashtra/nashik/niphad/datyane.html',\n",
       " 'https://villageinfo.in/maharashtra/nashik/niphad/davachwadi.html',\n",
       " 'https://villageinfo.in/maharashtra/nashik/niphad/deogaon.html',\n",
       " 'https://villageinfo.in/maharashtra/nashik/niphad/deopur.html',\n",
       " 'https://villageinfo.in/maharashtra/nashik/niphad/dhanore.html',\n",
       " 'https://villageinfo.in/maharashtra/nashik/niphad/dharangaon-khadak.html',\n",
       " 'https://villageinfo.in/maharashtra/nashik/niphad/dharangaon-veer.html',\n",
       " 'https://villageinfo.in/maharashtra/nashik/niphad/dindori.html',\n",
       " 'https://villageinfo.in/maharashtra/nashik/niphad/dixi.html',\n",
       " 'https://villageinfo.in/maharashtra/nashik/niphad/dongargaon.html',\n",
       " 'https://villageinfo.in/maharashtra/nashik/niphad/gajarwadi.html',\n",
       " 'https://villageinfo.in/maharashtra/nashik/niphad/gitakunj.html',\n",
       " 'https://villageinfo.in/maharashtra/nashik/niphad/golegaon.html',\n",
       " 'https://villageinfo.in/maharashtra/nashik/niphad/gondegaon.html',\n",
       " 'https://villageinfo.in/maharashtra/nashik/niphad/gorthan.html',\n",
       " 'https://villageinfo.in/maharashtra/nashik/niphad/hanumannagar.html',\n",
       " 'https://villageinfo.in/maharashtra/nashik/niphad/jalgaon.html',\n",
       " 'https://villageinfo.in/maharashtra/nashik/niphad/jivhale.html',\n",
       " 'https://villageinfo.in/maharashtra/nashik/niphad/kalgaon.html',\n",
       " 'https://villageinfo.in/maharashtra/nashik/niphad/kanlad.html',\n",
       " 'https://villageinfo.in/maharashtra/nashik/niphad/karanjgaon.html',\n",
       " 'https://villageinfo.in/maharashtra/nashik/niphad/karanji-kh.html',\n",
       " 'https://villageinfo.in/maharashtra/nashik/niphad/karsul.html',\n",
       " 'https://villageinfo.in/maharashtra/nashik/niphad/kasabe-sukene.html',\n",
       " 'https://villageinfo.in/maharashtra/nashik/niphad/kathargaon.html',\n",
       " 'https://villageinfo.in/maharashtra/nashik/niphad/khadak-malegaon.html',\n",
       " 'https://villageinfo.in/maharashtra/nashik/niphad/khangaon-najik.html',\n",
       " 'https://villageinfo.in/maharashtra/nashik/niphad/khangaon-thadi.html',\n",
       " 'https://villageinfo.in/maharashtra/nashik/niphad/khedale-zunge.html',\n",
       " 'https://villageinfo.in/maharashtra/nashik/niphad/khede.html',\n",
       " 'https://villageinfo.in/maharashtra/nashik/niphad/kokangaon.html',\n",
       " 'https://villageinfo.in/maharashtra/nashik/niphad/kotamgaon.html',\n",
       " 'https://villageinfo.in/maharashtra/nashik/niphad/kothure.html',\n",
       " 'https://villageinfo.in/maharashtra/nashik/niphad/kumbhari.html',\n",
       " 'https://villageinfo.in/maharashtra/nashik/niphad/kurudgaon.html',\n",
       " 'https://villageinfo.in/maharashtra/nashik/niphad/lalpadi.html',\n",
       " 'https://villageinfo.in/maharashtra/nashik/niphad/lasalgaon.html',\n",
       " 'https://villageinfo.in/maharashtra/nashik/niphad/lonwadi.html',\n",
       " 'https://villageinfo.in/maharashtra/nashik/niphad/mahadevnagar.html',\n",
       " 'https://villageinfo.in/maharashtra/nashik/niphad/mahajanpur.html',\n",
       " 'https://villageinfo.in/maharashtra/nashik/niphad/majargaon.html',\n",
       " 'https://villageinfo.in/maharashtra/nashik/niphad/manori-kh.html',\n",
       " 'https://villageinfo.in/maharashtra/nashik/niphad/maralgoi-kh.html',\n",
       " 'https://villageinfo.in/maharashtra/nashik/niphad/mauje-sukene.html',\n",
       " 'https://villageinfo.in/maharashtra/nashik/niphad/mavalgoi-bk.html',\n",
       " 'https://villageinfo.in/maharashtra/nashik/niphad/mhalsakore.html',\n",
       " 'https://villageinfo.in/maharashtra/nashik/niphad/mukhed.html',\n",
       " 'https://villageinfo.in/maharashtra/nashik/niphad/nagapur.html',\n",
       " 'https://villageinfo.in/maharashtra/nashik/niphad/naitale.html',\n",
       " 'https://villageinfo.in/maharashtra/nashik/niphad/nandgaon.html',\n",
       " 'https://villageinfo.in/maharashtra/nashik/niphad/nandur-kh.html',\n",
       " 'https://villageinfo.in/maharashtra/nashik/niphad/nandur-madhyameshwar.html',\n",
       " 'https://villageinfo.in/maharashtra/nashik/niphad/nandurdi.html',\n",
       " 'https://villageinfo.in/maharashtra/nashik/niphad/narayan-tembhi.html',\n",
       " 'https://villageinfo.in/maharashtra/nashik/niphad/narayangaon.html',\n",
       " 'https://villageinfo.in/maharashtra/nashik/niphad/nimgaon-wakada.html',\n",
       " 'https://villageinfo.in/maharashtra/nashik/niphad/niphad.html',\n",
       " 'https://villageinfo.in/maharashtra/nashik/niphad/oney.html',\n",
       " 'https://villageinfo.in/maharashtra/nashik/niphad/ozar.html',\n",
       " 'https://villageinfo.in/maharashtra/nashik/niphad/pachore-bk.html',\n",
       " 'https://villageinfo.in/maharashtra/nashik/niphad/pachore-kh.html',\n",
       " 'https://villageinfo.in/maharashtra/nashik/niphad/pachorewani.html',\n",
       " 'https://villageinfo.in/maharashtra/nashik/niphad/palkhed.html',\n",
       " 'https://villageinfo.in/maharashtra/nashik/niphad/panchkeshwar.html',\n",
       " 'https://villageinfo.in/maharashtra/nashik/niphad/pimpalas.html',\n",
       " 'https://villageinfo.in/maharashtra/nashik/niphad/pimpalgaon-baswant.html',\n",
       " 'https://villageinfo.in/maharashtra/nashik/niphad/pimpalgaon-najik.html',\n",
       " 'https://villageinfo.in/maharashtra/nashik/niphad/pimpalgaon-nipani.html',\n",
       " 'https://villageinfo.in/maharashtra/nashik/niphad/pimpri.html',\n",
       " 'https://villageinfo.in/maharashtra/nashik/niphad/ramnagar.html',\n",
       " 'https://villageinfo.in/maharashtra/nashik/niphad/rampur.html',\n",
       " 'https://villageinfo.in/maharashtra/nashik/niphad/ranwad.html',\n",
       " 'https://villageinfo.in/maharashtra/nashik/niphad/rasalpur.html',\n",
       " 'https://villageinfo.in/maharashtra/nashik/niphad/raulas.html',\n",
       " 'https://villageinfo.in/maharashtra/nashik/niphad/redgaon.html',\n",
       " 'https://villageinfo.in/maharashtra/nashik/niphad/rui.html',\n",
       " 'https://villageinfo.in/maharashtra/nashik/niphad/saikhede.html',\n",
       " 'https://villageinfo.in/maharashtra/nashik/niphad/sakore.html',\n",
       " 'https://villageinfo.in/maharashtra/nashik/niphad/sarole-kh.html',\n",
       " 'https://villageinfo.in/maharashtra/nashik/niphad/sarole-thadi.html',\n",
       " 'https://villageinfo.in/maharashtra/nashik/niphad/sawali.html',\n",
       " 'https://villageinfo.in/maharashtra/nashik/niphad/sawargaon.html',\n",
       " 'https://villageinfo.in/maharashtra/nashik/niphad/shimpi-takali.html',\n",
       " 'https://villageinfo.in/maharashtra/nashik/niphad/shingave.html',\n",
       " 'https://villageinfo.in/maharashtra/nashik/niphad/shirasgaon.html',\n",
       " 'https://villageinfo.in/maharashtra/nashik/niphad/shirwade-wakad.html',\n",
       " 'https://villageinfo.in/maharashtra/nashik/niphad/shirwade-wani.html',\n",
       " 'https://villageinfo.in/maharashtra/nashik/niphad/shivadi.html',\n",
       " 'https://villageinfo.in/maharashtra/nashik/niphad/shivare.html',\n",
       " 'https://villageinfo.in/maharashtra/nashik/niphad/shiwapur.html',\n",
       " 'https://villageinfo.in/maharashtra/nashik/niphad/shriram-nagar.html',\n",
       " 'https://villageinfo.in/maharashtra/nashik/niphad/shrirampur.html',\n",
       " 'https://villageinfo.in/maharashtra/nashik/niphad/sonewadi-bk.html',\n",
       " 'https://villageinfo.in/maharashtra/nashik/niphad/sonewadi-kh.html',\n",
       " 'https://villageinfo.in/maharashtra/nashik/niphad/songaon.html',\n",
       " 'https://villageinfo.in/maharashtra/nashik/niphad/subhash-nagar.html',\n",
       " 'https://villageinfo.in/maharashtra/nashik/niphad/sundarpur.html',\n",
       " 'https://villageinfo.in/maharashtra/nashik/niphad/takali-vinchur.html',\n",
       " 'https://villageinfo.in/maharashtra/nashik/niphad/talwade.html',\n",
       " 'https://villageinfo.in/maharashtra/nashik/niphad/tamaswadi.html',\n",
       " 'https://villageinfo.in/maharashtra/nashik/niphad/tarukhedle.html',\n",
       " 'https://villageinfo.in/maharashtra/nashik/niphad/thergaon.html',\n",
       " 'https://villageinfo.in/maharashtra/nashik/niphad/thetale.html',\n",
       " 'https://villageinfo.in/maharashtra/nashik/niphad/ugaon.html',\n",
       " 'https://villageinfo.in/maharashtra/nashik/niphad/umbarkhed.html',\n",
       " 'https://villageinfo.in/maharashtra/nashik/niphad/vadali-najik.html',\n",
       " 'https://villageinfo.in/maharashtra/nashik/niphad/vanasgaon.html',\n",
       " 'https://villageinfo.in/maharashtra/nashik/niphad/varhe-davna.html',\n",
       " 'https://villageinfo.in/maharashtra/nashik/niphad/vijay-nagar.html',\n",
       " 'https://villageinfo.in/maharashtra/nashik/niphad/vinchur.html',\n",
       " 'https://villageinfo.in/maharashtra/nashik/niphad/vishnu-nagar.html',\n",
       " 'https://villageinfo.in/maharashtra/nashik/niphad/vitthalwadi.html',\n",
       " 'https://villageinfo.in/maharashtra/nashik/niphad/wahegaon.html',\n",
       " 'https://villageinfo.in/maharashtra/nashik/niphad/wakad.html',\n",
       " 'https://villageinfo.in/maharashtra/nashik/niphad/wavi.html',\n",
       " 'https://villageinfo.in/maharashtra/nashik/niphad/welapur.html']"
      ]
     },
     "execution_count": 10,
     "metadata": {},
     "output_type": "execute_result"
    }
   ],
   "source": [
    "url3 = 'https://villageinfo.in/maharashtra/nashik/niphad.html'\n",
    "soup3 = get_soup(url3)\n",
    "vill_list = get_all_links_table(soup3)\n",
    "vill_list"
   ]
  },
  {
   "cell_type": "markdown",
   "id": "3f9f91e1",
   "metadata": {
    "papermill": {
     "duration": 0.011339,
     "end_time": "2024-05-29T06:48:45.055308",
     "exception": false,
     "start_time": "2024-05-29T06:48:45.043969",
     "status": "completed"
    },
    "tags": []
   },
   "source": [
    "# filter out now "
   ]
  },
  {
   "cell_type": "markdown",
   "id": "2f41083f",
   "metadata": {
    "papermill": {
     "duration": 0.009687,
     "end_time": "2024-05-29T06:48:45.076366",
     "exception": false,
     "start_time": "2024-05-29T06:48:45.066679",
     "status": "completed"
    },
    "tags": []
   },
   "source": [
    "## states"
   ]
  },
  {
   "cell_type": "code",
   "execution_count": 11,
   "id": "9e19e76a",
   "metadata": {
    "execution": {
     "iopub.execute_input": "2024-05-29T06:48:45.102564Z",
     "iopub.status.busy": "2024-05-29T06:48:45.102127Z",
     "iopub.status.idle": "2024-05-29T06:48:45.112665Z",
     "shell.execute_reply": "2024-05-29T06:48:45.110807Z"
    },
    "papermill": {
     "duration": 0.02615,
     "end_time": "2024-05-29T06:48:45.115872",
     "exception": false,
     "start_time": "2024-05-29T06:48:45.089722",
     "status": "completed"
    },
    "tags": []
   },
   "outputs": [
    {
     "data": {
      "text/plain": [
       "['https://villageinfo.in/andaman-&-nicobar-islands.html',\n",
       " 'https://villageinfo.in/andhra-pradesh.html',\n",
       " 'https://villageinfo.in/arunachal-pradesh.html',\n",
       " 'https://villageinfo.in/assam.html',\n",
       " 'https://villageinfo.in/bihar.html',\n",
       " 'https://villageinfo.in/chandigarh.html',\n",
       " 'https://villageinfo.in/chhattisgarh.html',\n",
       " 'https://villageinfo.in/dadra-&-nagar-haveli.html',\n",
       " 'https://villageinfo.in/daman-&-diu.html',\n",
       " 'https://villageinfo.in/delhi.html',\n",
       " 'https://villageinfo.in/goa.html',\n",
       " 'https://villageinfo.in/gujarat.html',\n",
       " 'https://villageinfo.in/haryana.html',\n",
       " 'https://villageinfo.in/himachal-pradesh.html',\n",
       " 'https://villageinfo.in/jammu-&-kashmir.html',\n",
       " 'https://villageinfo.in/jharkhand.html',\n",
       " 'https://villageinfo.in/karnataka.html',\n",
       " 'https://villageinfo.in/kerala.html',\n",
       " 'https://villageinfo.in/lakshadweep.html',\n",
       " 'https://villageinfo.in/madhya-pradesh.html',\n",
       " 'https://villageinfo.in/maharashtra.html',\n",
       " 'https://villageinfo.in/manipur.html',\n",
       " 'https://villageinfo.in/meghalaya.html',\n",
       " 'https://villageinfo.in/mizoram.html',\n",
       " 'https://villageinfo.in/nagaland.html',\n",
       " 'https://villageinfo.in/odisha.html',\n",
       " 'https://villageinfo.in/puducherry.html',\n",
       " 'https://villageinfo.in/punjab.html',\n",
       " 'https://villageinfo.in/rajasthan.html',\n",
       " 'https://villageinfo.in/sikkim.html',\n",
       " 'https://villageinfo.in/tamil-nadu.html',\n",
       " 'https://villageinfo.in/telangana.html',\n",
       " 'https://villageinfo.in/tripura.html',\n",
       " 'https://villageinfo.in/uttar-pradesh.html',\n",
       " 'https://villageinfo.in/uttarakhand.html',\n",
       " 'https://villageinfo.in/west-bengal.html']"
      ]
     },
     "execution_count": 11,
     "metadata": {},
     "output_type": "execute_result"
    }
   ],
   "source": [
    "states_list_f = states_list[:-4]\n",
    "states_list_f"
   ]
  },
  {
   "cell_type": "markdown",
   "id": "55d8fde6",
   "metadata": {
    "papermill": {
     "duration": 0.010153,
     "end_time": "2024-05-29T06:48:45.136497",
     "exception": false,
     "start_time": "2024-05-29T06:48:45.126344",
     "status": "completed"
    },
    "tags": []
   },
   "source": [
    "# mass scrapping"
   ]
  },
  {
   "cell_type": "code",
   "execution_count": 12,
   "id": "dbb4d837",
   "metadata": {
    "execution": {
     "iopub.execute_input": "2024-05-29T06:48:45.159142Z",
     "iopub.status.busy": "2024-05-29T06:48:45.158736Z",
     "iopub.status.idle": "2024-05-29T06:48:45.165908Z",
     "shell.execute_reply": "2024-05-29T06:48:45.163825Z"
    },
    "papermill": {
     "duration": 0.022718,
     "end_time": "2024-05-29T06:48:45.169506",
     "exception": false,
     "start_time": "2024-05-29T06:48:45.146788",
     "status": "completed"
    },
    "tags": []
   },
   "outputs": [],
   "source": [
    "# district_list_mega = []\n",
    "# talukas_list_mega = []\n",
    "# villages_list_mega = []\n",
    "\n",
    "# for state_link in states_list_f:\n",
    "#     # print(state_link)\n",
    "#     soup = get_soup(state_link)\n",
    "#     district_list = get_all_links_table(soup)\n",
    "#     district_list_mega.extend(district_list)  \n",
    "\n",
    "#     for district_link in district_list:\n",
    "#         # print(district_link)\n",
    "#         soup = get_soup(district_link)\n",
    "#         talukas_list = get_all_links_table(soup)\n",
    "#         talukas_list_mega.extend(talukas_list) \n",
    "\n",
    "#         for talukas_link in talukas_list:\n",
    "#             # print(talukas_link)\n",
    "#             soup = get_soup(talukas_link)\n",
    "#             villages_list = get_all_links_table(soup)\n",
    "#             villages_list_mega.extend(villages_list)  \n",
    "        \n",
    "#         time.sleep(5)\n",
    "#     time.sleep(10)\n",
    "#     filename = state_link.replace('/','.')\n",
    "#     filename = filename.split('.')[-2]\n",
    "#     with open(f'{filename}.txt', 'a') as file:  \n",
    "#         for village in villages_list_mega:\n",
    "#             file.write(f\"{village}\\n\")\n",
    "#     print(f'file : {filename} written successfully .\\n')\n",
    "\n",
    "# print(len(district_list_mega))\n",
    "# print(len(talukas_list_mega))\n",
    "# print(len(villages_list_mega))"
   ]
  },
  {
   "cell_type": "markdown",
   "id": "8057d461",
   "metadata": {
    "papermill": {
     "duration": 0.011953,
     "end_time": "2024-05-29T06:48:45.192111",
     "exception": false,
     "start_time": "2024-05-29T06:48:45.180158",
     "status": "completed"
    },
    "tags": []
   },
   "source": [
    "# code to collect data in detail "
   ]
  },
  {
   "cell_type": "code",
   "execution_count": 13,
   "id": "05d021c2",
   "metadata": {
    "execution": {
     "iopub.execute_input": "2024-05-29T06:48:45.214524Z",
     "iopub.status.busy": "2024-05-29T06:48:45.214073Z",
     "iopub.status.idle": "2024-05-29T06:48:45.221101Z",
     "shell.execute_reply": "2024-05-29T06:48:45.219382Z"
    },
    "papermill": {
     "duration": 0.02182,
     "end_time": "2024-05-29T06:48:45.224151",
     "exception": false,
     "start_time": "2024-05-29T06:48:45.202331",
     "status": "completed"
    },
    "tags": []
   },
   "outputs": [],
   "source": [
    "url = \"https://villageinfo.in/maharashtra/nashik/niphad/ahergaon.html\""
   ]
  },
  {
   "cell_type": "code",
   "execution_count": 14,
   "id": "4ad41a96",
   "metadata": {
    "execution": {
     "iopub.execute_input": "2024-05-29T06:48:45.250742Z",
     "iopub.status.busy": "2024-05-29T06:48:45.250307Z",
     "iopub.status.idle": "2024-05-29T06:48:45.814028Z",
     "shell.execute_reply": "2024-05-29T06:48:45.812601Z"
    },
    "papermill": {
     "duration": 0.57939,
     "end_time": "2024-05-29T06:48:45.817191",
     "exception": false,
     "start_time": "2024-05-29T06:48:45.237801",
     "status": "completed"
    },
    "tags": []
   },
   "outputs": [],
   "source": [
    "r = rq.get(url,headers = headers)"
   ]
  },
  {
   "cell_type": "code",
   "execution_count": 15,
   "id": "e373d1f0",
   "metadata": {
    "execution": {
     "iopub.execute_input": "2024-05-29T06:48:45.845982Z",
     "iopub.status.busy": "2024-05-29T06:48:45.845525Z",
     "iopub.status.idle": "2024-05-29T06:48:45.865614Z",
     "shell.execute_reply": "2024-05-29T06:48:45.863998Z"
    },
    "papermill": {
     "duration": 0.035657,
     "end_time": "2024-05-29T06:48:45.868962",
     "exception": false,
     "start_time": "2024-05-29T06:48:45.833305",
     "status": "completed"
    },
    "tags": []
   },
   "outputs": [],
   "source": [
    "soup = BeautifulSoup(r.text,'html.parser')"
   ]
  },
  {
   "cell_type": "code",
   "execution_count": 16,
   "id": "c4eb078f",
   "metadata": {
    "execution": {
     "iopub.execute_input": "2024-05-29T06:48:45.892453Z",
     "iopub.status.busy": "2024-05-29T06:48:45.892034Z",
     "iopub.status.idle": "2024-05-29T06:48:45.897998Z",
     "shell.execute_reply": "2024-05-29T06:48:45.896737Z"
    },
    "papermill": {
     "duration": 0.020924,
     "end_time": "2024-05-29T06:48:45.900809",
     "exception": false,
     "start_time": "2024-05-29T06:48:45.879885",
     "status": "completed"
    },
    "tags": []
   },
   "outputs": [],
   "source": [
    "tables = soup.find('table')"
   ]
  },
  {
   "cell_type": "code",
   "execution_count": 17,
   "id": "1752b769",
   "metadata": {
    "execution": {
     "iopub.execute_input": "2024-05-29T06:48:45.924696Z",
     "iopub.status.busy": "2024-05-29T06:48:45.923363Z",
     "iopub.status.idle": "2024-05-29T06:48:45.944271Z",
     "shell.execute_reply": "2024-05-29T06:48:45.942860Z"
    },
    "papermill": {
     "duration": 0.035547,
     "end_time": "2024-05-29T06:48:45.946830",
     "exception": false,
     "start_time": "2024-05-29T06:48:45.911283",
     "status": "completed"
    },
    "tags": []
   },
   "outputs": [
    {
     "data": {
      "text/html": [
       "<div>\n",
       "<style scoped>\n",
       "    .dataframe tbody tr th:only-of-type {\n",
       "        vertical-align: middle;\n",
       "    }\n",
       "\n",
       "    .dataframe tbody tr th {\n",
       "        vertical-align: top;\n",
       "    }\n",
       "\n",
       "    .dataframe thead th {\n",
       "        text-align: right;\n",
       "    }\n",
       "</style>\n",
       "<table border=\"1\" class=\"dataframe\">\n",
       "  <thead>\n",
       "    <tr style=\"text-align: right;\">\n",
       "      <th></th>\n",
       "      <th>0</th>\n",
       "      <th>1</th>\n",
       "      <th>2</th>\n",
       "      <th>3</th>\n",
       "    </tr>\n",
       "  </thead>\n",
       "  <tbody>\n",
       "    <tr>\n",
       "      <th>0</th>\n",
       "      <td>Particulars</td>\n",
       "      <td>Total</td>\n",
       "      <td>Male</td>\n",
       "      <td>Female</td>\n",
       "    </tr>\n",
       "    <tr>\n",
       "      <th>1</th>\n",
       "      <td>Total Population</td>\n",
       "      <td>3,107</td>\n",
       "      <td>1,618</td>\n",
       "      <td>1,489</td>\n",
       "    </tr>\n",
       "    <tr>\n",
       "      <th>2</th>\n",
       "      <td>Literate Population</td>\n",
       "      <td>2,328</td>\n",
       "      <td>1,276</td>\n",
       "      <td>1,052</td>\n",
       "    </tr>\n",
       "    <tr>\n",
       "      <th>3</th>\n",
       "      <td>Illiterate Population</td>\n",
       "      <td>779</td>\n",
       "      <td>342</td>\n",
       "      <td>437</td>\n",
       "    </tr>\n",
       "  </tbody>\n",
       "</table>\n",
       "</div>"
      ],
      "text/plain": [
       "                       0      1      2       3\n",
       "0            Particulars  Total   Male  Female\n",
       "1       Total Population  3,107  1,618   1,489\n",
       "2    Literate Population  2,328  1,276   1,052\n",
       "3  Illiterate Population    779    342     437"
      ]
     },
     "execution_count": 17,
     "metadata": {},
     "output_type": "execute_result"
    }
   ],
   "source": [
    "tables = construct_table(tables)\n",
    "tables_df = pd.DataFrame(tables)\n",
    "tables_df"
   ]
  },
  {
   "cell_type": "code",
   "execution_count": 18,
   "id": "9b3ad7a5",
   "metadata": {
    "execution": {
     "iopub.execute_input": "2024-05-29T06:48:45.970286Z",
     "iopub.status.busy": "2024-05-29T06:48:45.969889Z",
     "iopub.status.idle": "2024-05-29T06:48:45.980970Z",
     "shell.execute_reply": "2024-05-29T06:48:45.979291Z"
    },
    "papermill": {
     "duration": 0.026297,
     "end_time": "2024-05-29T06:48:45.983852",
     "exception": false,
     "start_time": "2024-05-29T06:48:45.957555",
     "status": "completed"
    },
    "tags": []
   },
   "outputs": [
    {
     "name": "stdout",
     "output_type": "stream",
     "text": [
      "[['Particulars', 'Total', 'Male', 'Female'], ['Total Population', '3,107', '1,618', '1,489'], ['Literate Population', '2,328', '1,276', '1,052'], ['Illiterate Population', '779', '342', '437']] \n",
      "\n",
      "\n",
      "[['Ahergaon - Village Overview'], ['Gram Panchayat : ', 'Ahergaon'], ['Block / Tehsil : ', 'Niphad'], ['District : ', 'Nashik'], ['State : ', 'Maharashtra'], ['Pincode : ', 'N/A'], ['Area : ', '852 hectares'], ['Population : ', '3,107'], ['Households : ', '594'], ['Assembly Constituency : ', 'Niphad'], ['Parliament Constituency : ', 'Dindori'], ['Nearest Town : ', 'Nashik (37 km)']] \n",
      "\n",
      "\n",
      "[['Related Pages'], ['List of Villages in Niphad'], ['List of Tehsils in Nashik'], ['List of Districts in Maharashtra']] \n",
      "\n",
      "\n"
     ]
    }
   ],
   "source": [
    "tables = soup.find_all('table')\n",
    "\n",
    "for i in tables:\n",
    "    tab = construct_table(i)\n",
    "    tables_df = pd.DataFrame(tab)\n",
    "    print(tab,'\\n\\n')"
   ]
  },
  {
   "cell_type": "code",
   "execution_count": 19,
   "id": "b17dd6a4",
   "metadata": {
    "execution": {
     "iopub.execute_input": "2024-05-29T06:48:46.011891Z",
     "iopub.status.busy": "2024-05-29T06:48:46.011498Z",
     "iopub.status.idle": "2024-05-29T06:48:46.020669Z",
     "shell.execute_reply": "2024-05-29T06:48:46.019468Z"
    },
    "papermill": {
     "duration": 0.024397,
     "end_time": "2024-05-29T06:48:46.023006",
     "exception": false,
     "start_time": "2024-05-29T06:48:45.998609",
     "status": "completed"
    },
    "tags": []
   },
   "outputs": [
    {
     "data": {
      "text/plain": [
       "[<div class=\"column\" data-label=\"Connectivity Type\">Public Bus Service</div>,\n",
       " <div class=\"column\" data-label=\"Connectivity Type\">Private Bus Service</div>,\n",
       " <div class=\"column\" data-label=\"Connectivity Type\">Railway Station</div>]"
      ]
     },
     "execution_count": 19,
     "metadata": {},
     "output_type": "execute_result"
    }
   ],
   "source": [
    "soup.find_all('div',{'data-label':'Connectivity Type'})"
   ]
  },
  {
   "cell_type": "code",
   "execution_count": 20,
   "id": "68633f0e",
   "metadata": {
    "execution": {
     "iopub.execute_input": "2024-05-29T06:48:46.049056Z",
     "iopub.status.busy": "2024-05-29T06:48:46.048653Z",
     "iopub.status.idle": "2024-05-29T06:48:46.058742Z",
     "shell.execute_reply": "2024-05-29T06:48:46.057207Z"
    },
    "papermill": {
     "duration": 0.026077,
     "end_time": "2024-05-29T06:48:46.061295",
     "exception": false,
     "start_time": "2024-05-29T06:48:46.035218",
     "status": "completed"
    },
    "tags": []
   },
   "outputs": [
    {
     "data": {
      "text/plain": [
       "[<div class=\"column\" data-label=\"Status\">Status</div>,\n",
       " <div class=\"column\" data-label=\"Status\">Available within village</div>,\n",
       " <div class=\"column\" data-label=\"Status\">Available within 5 - 10 km distance</div>,\n",
       " <div class=\"column\" data-label=\"Status\">Available within 10+ km distance</div>]"
      ]
     },
     "execution_count": 20,
     "metadata": {},
     "output_type": "execute_result"
    }
   ],
   "source": [
    "soup.find_all('div',{'data-label':'Status'})"
   ]
  },
  {
   "cell_type": "code",
   "execution_count": 21,
   "id": "3895cfd3",
   "metadata": {
    "execution": {
     "iopub.execute_input": "2024-05-29T06:48:46.084596Z",
     "iopub.status.busy": "2024-05-29T06:48:46.084151Z",
     "iopub.status.idle": "2024-05-29T06:48:46.090598Z",
     "shell.execute_reply": "2024-05-29T06:48:46.088967Z"
    },
    "papermill": {
     "duration": 0.02143,
     "end_time": "2024-05-29T06:48:46.093335",
     "exception": false,
     "start_time": "2024-05-29T06:48:46.071905",
     "status": "completed"
    },
    "tags": []
   },
   "outputs": [],
   "source": [
    "final_data_list = {}"
   ]
  },
  {
   "cell_type": "markdown",
   "id": "848bfbac",
   "metadata": {
    "papermill": {
     "duration": 0.011083,
     "end_time": "2024-05-29T06:48:46.115703",
     "exception": false,
     "start_time": "2024-05-29T06:48:46.104620",
     "status": "completed"
    },
    "tags": []
   },
   "source": [
    "# Ned to get latitude and longitude "
   ]
  },
  {
   "cell_type": "code",
   "execution_count": 22,
   "id": "16f0d0e6",
   "metadata": {
    "execution": {
     "iopub.execute_input": "2024-05-29T06:48:46.141681Z",
     "iopub.status.busy": "2024-05-29T06:48:46.140527Z",
     "iopub.status.idle": "2024-05-29T06:48:46.146974Z",
     "shell.execute_reply": "2024-05-29T06:48:46.145184Z"
    },
    "papermill": {
     "duration": 0.023627,
     "end_time": "2024-05-29T06:48:46.150303",
     "exception": false,
     "start_time": "2024-05-29T06:48:46.126676",
     "status": "completed"
    },
    "tags": []
   },
   "outputs": [],
   "source": [
    "# https://www.geonames.org/search.html?q=vinchur%2Cnashik%2Cmaharashtra&country=IN"
   ]
  },
  {
   "cell_type": "code",
   "execution_count": 23,
   "id": "2d58f289",
   "metadata": {
    "execution": {
     "iopub.execute_input": "2024-05-29T06:48:46.174165Z",
     "iopub.status.busy": "2024-05-29T06:48:46.173770Z",
     "iopub.status.idle": "2024-05-29T06:48:47.425479Z",
     "shell.execute_reply": "2024-05-29T06:48:47.424120Z"
    },
    "papermill": {
     "duration": 1.268678,
     "end_time": "2024-05-29T06:48:47.429577",
     "exception": false,
     "start_time": "2024-05-29T06:48:46.160899",
     "status": "completed"
    },
    "tags": []
   },
   "outputs": [
    {
     "data": {
      "text/html": [
       "<div>\n",
       "<style scoped>\n",
       "    .dataframe tbody tr th:only-of-type {\n",
       "        vertical-align: middle;\n",
       "    }\n",
       "\n",
       "    .dataframe tbody tr th {\n",
       "        vertical-align: top;\n",
       "    }\n",
       "\n",
       "    .dataframe thead th {\n",
       "        text-align: right;\n",
       "    }\n",
       "</style>\n",
       "<table border=\"1\" class=\"dataframe\">\n",
       "  <thead>\n",
       "    <tr style=\"text-align: right;\">\n",
       "      <th></th>\n",
       "      <th>Unnamed: 0</th>\n",
       "      <th>country</th>\n",
       "      <th>state</th>\n",
       "      <th>district</th>\n",
       "      <th>taluka</th>\n",
       "      <th>village</th>\n",
       "    </tr>\n",
       "  </thead>\n",
       "  <tbody>\n",
       "    <tr>\n",
       "      <th>0</th>\n",
       "      <td>0</td>\n",
       "      <td>India</td>\n",
       "      <td>andaman-&amp;-nicobar-islands</td>\n",
       "      <td>nicobars</td>\n",
       "      <td>car-nicobar</td>\n",
       "      <td>arong</td>\n",
       "    </tr>\n",
       "    <tr>\n",
       "      <th>1</th>\n",
       "      <td>1</td>\n",
       "      <td>India</td>\n",
       "      <td>andaman-&amp;-nicobar-islands</td>\n",
       "      <td>nicobars</td>\n",
       "      <td>car-nicobar</td>\n",
       "      <td>big-lapati</td>\n",
       "    </tr>\n",
       "    <tr>\n",
       "      <th>2</th>\n",
       "      <td>2</td>\n",
       "      <td>India</td>\n",
       "      <td>andaman-&amp;-nicobar-islands</td>\n",
       "      <td>nicobars</td>\n",
       "      <td>car-nicobar</td>\n",
       "      <td>chuckchucha</td>\n",
       "    </tr>\n",
       "    <tr>\n",
       "      <th>3</th>\n",
       "      <td>3</td>\n",
       "      <td>India</td>\n",
       "      <td>andaman-&amp;-nicobar-islands</td>\n",
       "      <td>nicobars</td>\n",
       "      <td>car-nicobar</td>\n",
       "      <td>iaf-camp</td>\n",
       "    </tr>\n",
       "    <tr>\n",
       "      <th>4</th>\n",
       "      <td>4</td>\n",
       "      <td>India</td>\n",
       "      <td>andaman-&amp;-nicobar-islands</td>\n",
       "      <td>nicobars</td>\n",
       "      <td>car-nicobar</td>\n",
       "      <td>kakana</td>\n",
       "    </tr>\n",
       "    <tr>\n",
       "      <th>...</th>\n",
       "      <td>...</td>\n",
       "      <td>...</td>\n",
       "      <td>...</td>\n",
       "      <td>...</td>\n",
       "      <td>...</td>\n",
       "      <td>...</td>\n",
       "    </tr>\n",
       "    <tr>\n",
       "      <th>619285</th>\n",
       "      <td>619285</td>\n",
       "      <td>India</td>\n",
       "      <td>west-bengal</td>\n",
       "      <td>uttar-dinajpur</td>\n",
       "      <td>raiganj</td>\n",
       "      <td>teghara</td>\n",
       "    </tr>\n",
       "    <tr>\n",
       "      <th>619286</th>\n",
       "      <td>619286</td>\n",
       "      <td>India</td>\n",
       "      <td>west-bengal</td>\n",
       "      <td>uttar-dinajpur</td>\n",
       "      <td>raiganj</td>\n",
       "      <td>tenahari</td>\n",
       "    </tr>\n",
       "    <tr>\n",
       "      <th>619287</th>\n",
       "      <td>619287</td>\n",
       "      <td>India</td>\n",
       "      <td>west-bengal</td>\n",
       "      <td>uttar-dinajpur</td>\n",
       "      <td>raiganj</td>\n",
       "      <td>tenra</td>\n",
       "    </tr>\n",
       "    <tr>\n",
       "      <th>619288</th>\n",
       "      <td>619288</td>\n",
       "      <td>India</td>\n",
       "      <td>west-bengal</td>\n",
       "      <td>uttar-dinajpur</td>\n",
       "      <td>raiganj</td>\n",
       "      <td>udaypur</td>\n",
       "    </tr>\n",
       "    <tr>\n",
       "      <th>619289</th>\n",
       "      <td>619289</td>\n",
       "      <td>India</td>\n",
       "      <td>west-bengal</td>\n",
       "      <td>uttar-dinajpur</td>\n",
       "      <td>raiganj</td>\n",
       "      <td>uttar-goalpara</td>\n",
       "    </tr>\n",
       "  </tbody>\n",
       "</table>\n",
       "<p>619290 rows × 6 columns</p>\n",
       "</div>"
      ],
      "text/plain": [
       "        Unnamed: 0 country                      state        district  \\\n",
       "0                0   India  andaman-&-nicobar-islands        nicobars   \n",
       "1                1   India  andaman-&-nicobar-islands        nicobars   \n",
       "2                2   India  andaman-&-nicobar-islands        nicobars   \n",
       "3                3   India  andaman-&-nicobar-islands        nicobars   \n",
       "4                4   India  andaman-&-nicobar-islands        nicobars   \n",
       "...            ...     ...                        ...             ...   \n",
       "619285      619285   India                west-bengal  uttar-dinajpur   \n",
       "619286      619286   India                west-bengal  uttar-dinajpur   \n",
       "619287      619287   India                west-bengal  uttar-dinajpur   \n",
       "619288      619288   India                west-bengal  uttar-dinajpur   \n",
       "619289      619289   India                west-bengal  uttar-dinajpur   \n",
       "\n",
       "             taluka         village  \n",
       "0       car-nicobar           arong  \n",
       "1       car-nicobar      big-lapati  \n",
       "2       car-nicobar     chuckchucha  \n",
       "3       car-nicobar        iaf-camp  \n",
       "4       car-nicobar          kakana  \n",
       "...             ...             ...  \n",
       "619285      raiganj         teghara  \n",
       "619286      raiganj        tenahari  \n",
       "619287      raiganj           tenra  \n",
       "619288      raiganj         udaypur  \n",
       "619289      raiganj  uttar-goalpara  \n",
       "\n",
       "[619290 rows x 6 columns]"
      ]
     },
     "execution_count": 23,
     "metadata": {},
     "output_type": "execute_result"
    }
   ],
   "source": [
    "df = pd.read_csv('/kaggle/input/indian-villages-database/indian_villages_database.csv')\n",
    "df"
   ]
  },
  {
   "cell_type": "code",
   "execution_count": 24,
   "id": "9016a7b6",
   "metadata": {
    "execution": {
     "iopub.execute_input": "2024-05-29T06:48:47.463894Z",
     "iopub.status.busy": "2024-05-29T06:48:47.462391Z",
     "iopub.status.idle": "2024-05-29T06:48:47.474335Z",
     "shell.execute_reply": "2024-05-29T06:48:47.471647Z"
    },
    "papermill": {
     "duration": 0.033825,
     "end_time": "2024-05-29T06:48:47.480099",
     "exception": false,
     "start_time": "2024-05-29T06:48:47.446274",
     "status": "completed"
    },
    "tags": []
   },
   "outputs": [],
   "source": [
    "url_to_hit = \"https://www.geonames.org/advanced-search.html?q=Vinchur%2Cnashik%2Cmaharashtra&country=IN&featureClass=&continentCode=\""
   ]
  },
  {
   "cell_type": "code",
   "execution_count": 25,
   "id": "87d64e76",
   "metadata": {
    "execution": {
     "iopub.execute_input": "2024-05-29T06:48:47.508192Z",
     "iopub.status.busy": "2024-05-29T06:48:47.507266Z",
     "iopub.status.idle": "2024-05-29T06:48:48.769175Z",
     "shell.execute_reply": "2024-05-29T06:48:48.767791Z"
    },
    "papermill": {
     "duration": 1.278384,
     "end_time": "2024-05-29T06:48:48.772922",
     "exception": false,
     "start_time": "2024-05-29T06:48:47.494538",
     "status": "completed"
    },
    "tags": []
   },
   "outputs": [],
   "source": [
    "r = rq.get(url_to_hit,headers = headers)"
   ]
  },
  {
   "cell_type": "code",
   "execution_count": 26,
   "id": "f749c23d",
   "metadata": {
    "execution": {
     "iopub.execute_input": "2024-05-29T06:48:48.797935Z",
     "iopub.status.busy": "2024-05-29T06:48:48.797503Z",
     "iopub.status.idle": "2024-05-29T06:48:48.829057Z",
     "shell.execute_reply": "2024-05-29T06:48:48.827723Z"
    },
    "papermill": {
     "duration": 0.04732,
     "end_time": "2024-05-29T06:48:48.831973",
     "exception": false,
     "start_time": "2024-05-29T06:48:48.784653",
     "status": "completed"
    },
    "tags": []
   },
   "outputs": [],
   "source": [
    "soup = BeautifulSoup(r.text,'html.parser')"
   ]
  },
  {
   "cell_type": "code",
   "execution_count": 27,
   "id": "0ffde858",
   "metadata": {
    "execution": {
     "iopub.execute_input": "2024-05-29T06:48:48.856580Z",
     "iopub.status.busy": "2024-05-29T06:48:48.856146Z",
     "iopub.status.idle": "2024-05-29T06:48:48.865739Z",
     "shell.execute_reply": "2024-05-29T06:48:48.864136Z"
    },
    "papermill": {
     "duration": 0.025559,
     "end_time": "2024-05-29T06:48:48.868658",
     "exception": false,
     "start_time": "2024-05-29T06:48:48.843099",
     "status": "completed"
    },
    "tags": []
   },
   "outputs": [
    {
     "data": {
      "text/plain": [
       "<span class=\"latitude\">20.104085</span>"
      ]
     },
     "execution_count": 27,
     "metadata": {},
     "output_type": "execute_result"
    }
   ],
   "source": [
    "soup.find('span',{'class':'latitude'})"
   ]
  },
  {
   "cell_type": "code",
   "execution_count": 28,
   "id": "3d5031d1",
   "metadata": {
    "execution": {
     "iopub.execute_input": "2024-05-29T06:48:48.963127Z",
     "iopub.status.busy": "2024-05-29T06:48:48.962664Z",
     "iopub.status.idle": "2024-05-29T06:48:48.972218Z",
     "shell.execute_reply": "2024-05-29T06:48:48.970964Z"
    },
    "papermill": {
     "duration": 0.095283,
     "end_time": "2024-05-29T06:48:48.974912",
     "exception": false,
     "start_time": "2024-05-29T06:48:48.879629",
     "status": "completed"
    },
    "tags": []
   },
   "outputs": [
    {
     "data": {
      "text/plain": [
       "<span class=\"longitude\">74.226091</span>"
      ]
     },
     "execution_count": 28,
     "metadata": {},
     "output_type": "execute_result"
    }
   ],
   "source": [
    "soup.find('span',{'class':'longitude'})"
   ]
  },
  {
   "cell_type": "code",
   "execution_count": 29,
   "id": "5d182a9d",
   "metadata": {
    "execution": {
     "iopub.execute_input": "2024-05-29T06:48:49.000304Z",
     "iopub.status.busy": "2024-05-29T06:48:48.999918Z",
     "iopub.status.idle": "2024-05-29T06:48:59.251076Z",
     "shell.execute_reply": "2024-05-29T06:48:59.248982Z"
    },
    "papermill": {
     "duration": 10.268295,
     "end_time": "2024-05-29T06:48:59.255277",
     "exception": false,
     "start_time": "2024-05-29T06:48:48.986982",
     "status": "completed"
    },
    "tags": []
   },
   "outputs": [
    {
     "name": "stderr",
     "output_type": "stream",
     "text": [
      "9it [00:09,  1.02s/it]"
     ]
    },
    {
     "name": "stdout",
     "output_type": "stream",
     "text": [
      "<span class=\"latitude\">9.1666667</span>\n",
      "<span class=\"longitude\">92.8166667</span>\n"
     ]
    },
    {
     "name": "stderr",
     "output_type": "stream",
     "text": [
      "10it [00:10,  1.02s/it]"
     ]
    },
    {
     "name": "stdout",
     "output_type": "stream",
     "text": [
      "<span class=\"latitude\">9.2333333</span>\n",
      "<span class=\"longitude\">92.7833333</span>\n"
     ]
    },
    {
     "name": "stderr",
     "output_type": "stream",
     "text": [
      "\n"
     ]
    }
   ],
   "source": [
    "latlist = []\n",
    "lonlist = []\n",
    "\n",
    "for index, row in tqdm(df.head(10).iterrows()):\n",
    "    state = row.iloc[2]\n",
    "    district = row.iloc[3]\n",
    "    taluka = row.iloc[4]\n",
    "    village = row.iloc[5]\n",
    "    url_to_hit = f\"https://www.geonames.org/advanced-search.html?q={village}%2C{taluka}%2C{district}%2C{state}&country=IN&featureClass=&continentCode=\"  \n",
    "    r = rq.get(url_to_hit,headers = headers)    \n",
    "    soup = BeautifulSoup(r.text,'html.parser')   \n",
    "    lat = soup.find('span',{'class':'latitude'})    \n",
    "    lon = soup.find('span',{'class':'longitude'})   \n",
    "    if lat is not None and lon is not None:\n",
    "        latlist.append(lat.text)\n",
    "        lonlist.append(lon.text)\n",
    "        print(lat)\n",
    "        print(lon)\n",
    "    else:\n",
    "        latlist.append(None)\n",
    "        lonlist.append(None)"
   ]
  },
  {
   "cell_type": "code",
   "execution_count": 30,
   "id": "a0e31341",
   "metadata": {
    "execution": {
     "iopub.execute_input": "2024-05-29T06:48:59.282183Z",
     "iopub.status.busy": "2024-05-29T06:48:59.281618Z",
     "iopub.status.idle": "2024-05-29T06:48:59.291449Z",
     "shell.execute_reply": "2024-05-29T06:48:59.289346Z"
    },
    "papermill": {
     "duration": 0.026811,
     "end_time": "2024-05-29T06:48:59.294554",
     "exception": false,
     "start_time": "2024-05-29T06:48:59.267743",
     "status": "completed"
    },
    "tags": []
   },
   "outputs": [
    {
     "data": {
      "text/plain": [
       "[None, None, None, None, None, None, None, None, '9.1666667', '9.2333333']"
      ]
     },
     "execution_count": 30,
     "metadata": {},
     "output_type": "execute_result"
    }
   ],
   "source": [
    "latlist"
   ]
  },
  {
   "cell_type": "code",
   "execution_count": 31,
   "id": "d1935a28",
   "metadata": {
    "execution": {
     "iopub.execute_input": "2024-05-29T06:48:59.324865Z",
     "iopub.status.busy": "2024-05-29T06:48:59.323426Z",
     "iopub.status.idle": "2024-05-29T06:48:59.378685Z",
     "shell.execute_reply": "2024-05-29T06:48:59.376442Z"
    },
    "papermill": {
     "duration": 0.072047,
     "end_time": "2024-05-29T06:48:59.381642",
     "exception": false,
     "start_time": "2024-05-29T06:48:59.309595",
     "status": "completed"
    },
    "tags": []
   },
   "outputs": [
    {
     "data": {
      "text/plain": [
       "['andaman-&-nicobar-islands',\n",
       " 'andhra-pradesh',\n",
       " 'arunachal-pradesh',\n",
       " 'assam',\n",
       " 'bihar',\n",
       " 'chandigarh',\n",
       " 'chhattisgarh',\n",
       " 'dadra-&-nagar-haveli',\n",
       " 'daman-&-diu',\n",
       " 'delhi',\n",
       " 'goa',\n",
       " 'gujarat',\n",
       " 'haryana',\n",
       " 'himachal-pradesh',\n",
       " 'jammu-&-kashmir',\n",
       " 'jharkhand',\n",
       " 'karnataka',\n",
       " 'kerala',\n",
       " 'lakshadweep',\n",
       " 'madhya-pradesh',\n",
       " 'maharashtra',\n",
       " 'manipur',\n",
       " 'meghalaya',\n",
       " 'mizoram',\n",
       " 'nagaland',\n",
       " 'odisha',\n",
       " 'puducherry',\n",
       " 'punjab',\n",
       " 'rajasthan',\n",
       " 'sikkim',\n",
       " 'tamil-nadu',\n",
       " 'telangana',\n",
       " 'tripura',\n",
       " 'uttar-pradesh',\n",
       " 'uttarakhand',\n",
       " 'west-bengal']"
      ]
     },
     "execution_count": 31,
     "metadata": {},
     "output_type": "execute_result"
    }
   ],
   "source": [
    "statelist = list(df['state'].unique())\n",
    "statelist"
   ]
  },
  {
   "cell_type": "code",
   "execution_count": 32,
   "id": "b1308989",
   "metadata": {
    "execution": {
     "iopub.execute_input": "2024-05-29T06:48:59.408310Z",
     "iopub.status.busy": "2024-05-29T06:48:59.407917Z",
     "iopub.status.idle": "2024-05-29T06:48:59.415862Z",
     "shell.execute_reply": "2024-05-29T06:48:59.414470Z"
    },
    "papermill": {
     "duration": 0.024367,
     "end_time": "2024-05-29T06:48:59.418537",
     "exception": false,
     "start_time": "2024-05-29T06:48:59.394170",
     "status": "completed"
    },
    "tags": []
   },
   "outputs": [
    {
     "data": {
      "text/plain": [
       "['andaman-&-nicobar-islands',\n",
       " 'andhra-pradesh',\n",
       " 'arunachal-pradesh',\n",
       " 'assam',\n",
       " 'bihar',\n",
       " 'chandigarh',\n",
       " 'chhattisgarh',\n",
       " 'dadra-&-nagar-haveli',\n",
       " 'daman-&-diu',\n",
       " 'delhi']"
      ]
     },
     "execution_count": 32,
     "metadata": {},
     "output_type": "execute_result"
    }
   ],
   "source": [
    "filtlist = statelist[:10]\n",
    "filtlist"
   ]
  },
  {
   "cell_type": "code",
   "execution_count": 33,
   "id": "b630f934",
   "metadata": {
    "execution": {
     "iopub.execute_input": "2024-05-29T06:48:59.447643Z",
     "iopub.status.busy": "2024-05-29T06:48:59.446927Z",
     "iopub.status.idle": "2024-05-29T06:48:59.509335Z",
     "shell.execute_reply": "2024-05-29T06:48:59.507538Z"
    },
    "papermill": {
     "duration": 0.081205,
     "end_time": "2024-05-29T06:48:59.512294",
     "exception": false,
     "start_time": "2024-05-29T06:48:59.431089",
     "status": "completed"
    },
    "tags": []
   },
   "outputs": [
    {
     "data": {
      "text/html": [
       "<div>\n",
       "<style scoped>\n",
       "    .dataframe tbody tr th:only-of-type {\n",
       "        vertical-align: middle;\n",
       "    }\n",
       "\n",
       "    .dataframe tbody tr th {\n",
       "        vertical-align: top;\n",
       "    }\n",
       "\n",
       "    .dataframe thead th {\n",
       "        text-align: right;\n",
       "    }\n",
       "</style>\n",
       "<table border=\"1\" class=\"dataframe\">\n",
       "  <thead>\n",
       "    <tr style=\"text-align: right;\">\n",
       "      <th></th>\n",
       "      <th>Unnamed: 0</th>\n",
       "      <th>country</th>\n",
       "      <th>state</th>\n",
       "      <th>district</th>\n",
       "      <th>taluka</th>\n",
       "      <th>village</th>\n",
       "    </tr>\n",
       "  </thead>\n",
       "  <tbody>\n",
       "    <tr>\n",
       "      <th>0</th>\n",
       "      <td>0</td>\n",
       "      <td>India</td>\n",
       "      <td>andaman-&amp;-nicobar-islands</td>\n",
       "      <td>nicobars</td>\n",
       "      <td>car-nicobar</td>\n",
       "      <td>arong</td>\n",
       "    </tr>\n",
       "    <tr>\n",
       "      <th>1</th>\n",
       "      <td>1</td>\n",
       "      <td>India</td>\n",
       "      <td>andaman-&amp;-nicobar-islands</td>\n",
       "      <td>nicobars</td>\n",
       "      <td>car-nicobar</td>\n",
       "      <td>big-lapati</td>\n",
       "    </tr>\n",
       "    <tr>\n",
       "      <th>2</th>\n",
       "      <td>2</td>\n",
       "      <td>India</td>\n",
       "      <td>andaman-&amp;-nicobar-islands</td>\n",
       "      <td>nicobars</td>\n",
       "      <td>car-nicobar</td>\n",
       "      <td>chuckchucha</td>\n",
       "    </tr>\n",
       "    <tr>\n",
       "      <th>3</th>\n",
       "      <td>3</td>\n",
       "      <td>India</td>\n",
       "      <td>andaman-&amp;-nicobar-islands</td>\n",
       "      <td>nicobars</td>\n",
       "      <td>car-nicobar</td>\n",
       "      <td>iaf-camp</td>\n",
       "    </tr>\n",
       "    <tr>\n",
       "      <th>4</th>\n",
       "      <td>4</td>\n",
       "      <td>India</td>\n",
       "      <td>andaman-&amp;-nicobar-islands</td>\n",
       "      <td>nicobars</td>\n",
       "      <td>car-nicobar</td>\n",
       "      <td>kakana</td>\n",
       "    </tr>\n",
       "    <tr>\n",
       "      <th>...</th>\n",
       "      <td>...</td>\n",
       "      <td>...</td>\n",
       "      <td>...</td>\n",
       "      <td>...</td>\n",
       "      <td>...</td>\n",
       "      <td>...</td>\n",
       "    </tr>\n",
       "    <tr>\n",
       "      <th>111431</th>\n",
       "      <td>111431</td>\n",
       "      <td>India</td>\n",
       "      <td>delhi</td>\n",
       "      <td>west-delhi</td>\n",
       "      <td>punjabi-bagh</td>\n",
       "      <td>nilothi</td>\n",
       "    </tr>\n",
       "    <tr>\n",
       "      <th>111432</th>\n",
       "      <td>111432</td>\n",
       "      <td>India</td>\n",
       "      <td>delhi</td>\n",
       "      <td>west-delhi</td>\n",
       "      <td>punjabi-bagh</td>\n",
       "      <td>quammruddin-nagar</td>\n",
       "    </tr>\n",
       "    <tr>\n",
       "      <th>111433</th>\n",
       "      <td>111433</td>\n",
       "      <td>India</td>\n",
       "      <td>delhi</td>\n",
       "      <td>west-delhi</td>\n",
       "      <td>punjabi-bagh</td>\n",
       "      <td>shafi-pur-ranhola</td>\n",
       "    </tr>\n",
       "    <tr>\n",
       "      <th>111434</th>\n",
       "      <td>111434</td>\n",
       "      <td>India</td>\n",
       "      <td>delhi</td>\n",
       "      <td>west-delhi</td>\n",
       "      <td>punjabi-bagh</td>\n",
       "      <td>tikri-kalan</td>\n",
       "    </tr>\n",
       "    <tr>\n",
       "      <th>111435</th>\n",
       "      <td>111435</td>\n",
       "      <td>India</td>\n",
       "      <td>delhi</td>\n",
       "      <td>west-delhi</td>\n",
       "      <td>punjabi-bagh</td>\n",
       "      <td>tilang-pur-kotla</td>\n",
       "    </tr>\n",
       "  </tbody>\n",
       "</table>\n",
       "<p>111436 rows × 6 columns</p>\n",
       "</div>"
      ],
      "text/plain": [
       "        Unnamed: 0 country                      state    district  \\\n",
       "0                0   India  andaman-&-nicobar-islands    nicobars   \n",
       "1                1   India  andaman-&-nicobar-islands    nicobars   \n",
       "2                2   India  andaman-&-nicobar-islands    nicobars   \n",
       "3                3   India  andaman-&-nicobar-islands    nicobars   \n",
       "4                4   India  andaman-&-nicobar-islands    nicobars   \n",
       "...            ...     ...                        ...         ...   \n",
       "111431      111431   India                      delhi  west-delhi   \n",
       "111432      111432   India                      delhi  west-delhi   \n",
       "111433      111433   India                      delhi  west-delhi   \n",
       "111434      111434   India                      delhi  west-delhi   \n",
       "111435      111435   India                      delhi  west-delhi   \n",
       "\n",
       "              taluka            village  \n",
       "0        car-nicobar              arong  \n",
       "1        car-nicobar         big-lapati  \n",
       "2        car-nicobar        chuckchucha  \n",
       "3        car-nicobar           iaf-camp  \n",
       "4        car-nicobar             kakana  \n",
       "...              ...                ...  \n",
       "111431  punjabi-bagh            nilothi  \n",
       "111432  punjabi-bagh  quammruddin-nagar  \n",
       "111433  punjabi-bagh  shafi-pur-ranhola  \n",
       "111434  punjabi-bagh        tikri-kalan  \n",
       "111435  punjabi-bagh   tilang-pur-kotla  \n",
       "\n",
       "[111436 rows x 6 columns]"
      ]
     },
     "execution_count": 33,
     "metadata": {},
     "output_type": "execute_result"
    }
   ],
   "source": [
    "new_df1 = df[df['state'].isin(filtlist)]\n",
    "new_df1"
   ]
  }
 ],
 "metadata": {
  "kaggle": {
   "accelerator": "none",
   "dataSources": [
    {
     "datasetId": 5093156,
     "sourceId": 8528497,
     "sourceType": "datasetVersion"
    }
   ],
   "dockerImageVersionId": 30698,
   "isGpuEnabled": false,
   "isInternetEnabled": true,
   "language": "python",
   "sourceType": "notebook"
  },
  "kernelspec": {
   "display_name": "Python 3",
   "language": "python",
   "name": "python3"
  },
  "language_info": {
   "codemirror_mode": {
    "name": "ipython",
    "version": 3
   },
   "file_extension": ".py",
   "mimetype": "text/x-python",
   "name": "python",
   "nbconvert_exporter": "python",
   "pygments_lexer": "ipython3",
   "version": "3.10.13"
  },
  "papermill": {
   "default_parameters": {},
   "duration": 22.140061,
   "end_time": "2024-05-29T06:49:00.150765",
   "environment_variables": {},
   "exception": null,
   "input_path": "__notebook__.ipynb",
   "output_path": "__notebook__.ipynb",
   "parameters": {},
   "start_time": "2024-05-29T06:48:38.010704",
   "version": "2.5.0"
  }
 },
 "nbformat": 4,
 "nbformat_minor": 5
}
