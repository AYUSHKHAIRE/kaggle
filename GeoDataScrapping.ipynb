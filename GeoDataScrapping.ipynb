{
 "cells": [
  {
   "cell_type": "code",
   "execution_count": 1,
   "id": "3d824a38",
   "metadata": {
    "_cell_guid": "b1076dfc-b9ad-4769-8c92-a6c4dae69d19",
    "_uuid": "8f2839f25d086af736a60e9eeb907d3b93b6e0e5",
    "execution": {
     "iopub.execute_input": "2024-05-28T05:17:00.638509Z",
     "iopub.status.busy": "2024-05-28T05:17:00.637999Z",
     "iopub.status.idle": "2024-05-28T05:17:01.947242Z",
     "shell.execute_reply": "2024-05-28T05:17:01.946285Z"
    },
    "papermill": {
     "duration": 1.329147,
     "end_time": "2024-05-28T05:17:01.950066",
     "exception": false,
     "start_time": "2024-05-28T05:17:00.620919",
     "status": "completed"
    },
    "tags": []
   },
   "outputs": [],
   "source": [
    "import requests as rq\n",
    "import pandas as pd\n",
    "from bs4 import BeautifulSoup\n",
    "from tqdm import tqdm\n",
    "import json\n",
    "import time"
   ]
  },
  {
   "cell_type": "code",
   "execution_count": 2,
   "id": "0eb49b88",
   "metadata": {
    "execution": {
     "iopub.execute_input": "2024-05-28T05:17:01.977347Z",
     "iopub.status.busy": "2024-05-28T05:17:01.976198Z",
     "iopub.status.idle": "2024-05-28T05:17:01.984094Z",
     "shell.execute_reply": "2024-05-28T05:17:01.983129Z"
    },
    "papermill": {
     "duration": 0.023836,
     "end_time": "2024-05-28T05:17:01.986511",
     "exception": false,
     "start_time": "2024-05-28T05:17:01.962675",
     "status": "completed"
    },
    "tags": []
   },
   "outputs": [],
   "source": [
    "headers = {\n",
    "    \"User-Agent\": \"Mozilla/5.0 (Windows NT 10.0; Win64; x64) AppleWebKit/537.36 (KHTML, like Gecko) Chrome/58.0.3029.110 Safari/537.3\"\n",
    "}"
   ]
  },
  {
   "cell_type": "code",
   "execution_count": 3,
   "id": "ae6072eb",
   "metadata": {
    "execution": {
     "iopub.execute_input": "2024-05-28T05:17:02.013272Z",
     "iopub.status.busy": "2024-05-28T05:17:02.012509Z",
     "iopub.status.idle": "2024-05-28T05:17:02.018156Z",
     "shell.execute_reply": "2024-05-28T05:17:02.016750Z"
    },
    "papermill": {
     "duration": 0.022204,
     "end_time": "2024-05-28T05:17:02.021167",
     "exception": false,
     "start_time": "2024-05-28T05:17:01.998963",
     "status": "completed"
    },
    "tags": []
   },
   "outputs": [],
   "source": [
    "def get_soup(url):\n",
    "    url = url\n",
    "    r = rq.get(url,headers = headers)\n",
    "    soup = BeautifulSoup(r.text,'html.parser')\n",
    "    return soup"
   ]
  },
  {
   "cell_type": "code",
   "execution_count": 4,
   "id": "4589fa5c",
   "metadata": {
    "execution": {
     "iopub.execute_input": "2024-05-28T05:17:02.047883Z",
     "iopub.status.busy": "2024-05-28T05:17:02.047474Z",
     "iopub.status.idle": "2024-05-28T05:17:02.053455Z",
     "shell.execute_reply": "2024-05-28T05:17:02.052386Z"
    },
    "papermill": {
     "duration": 0.022109,
     "end_time": "2024-05-28T05:17:02.056014",
     "exception": false,
     "start_time": "2024-05-28T05:17:02.033905",
     "status": "completed"
    },
    "tags": []
   },
   "outputs": [],
   "source": [
    "def get_all_links(soup):  \n",
    "    listlink = []\n",
    "    links = soup.find_all('a')\n",
    "    for link in links:\n",
    "        part = link['href']\n",
    "        listlink.append(f'https://villageinfo.in{part}')\n",
    "    return listlink"
   ]
  },
  {
   "cell_type": "code",
   "execution_count": 5,
   "id": "c3076825",
   "metadata": {
    "execution": {
     "iopub.execute_input": "2024-05-28T05:17:02.081851Z",
     "iopub.status.busy": "2024-05-28T05:17:02.081482Z",
     "iopub.status.idle": "2024-05-28T05:17:02.089515Z",
     "shell.execute_reply": "2024-05-28T05:17:02.088119Z"
    },
    "papermill": {
     "duration": 0.024115,
     "end_time": "2024-05-28T05:17:02.092160",
     "exception": false,
     "start_time": "2024-05-28T05:17:02.068045",
     "status": "completed"
    },
    "tags": []
   },
   "outputs": [],
   "source": [
    "def get_all_links_table(soup):\n",
    "    listlink = []\n",
    "    table = soup.find('table')\n",
    "    tbody = table.find('tbody')\n",
    "    trs = tbody.find_all('tr')\n",
    "    for tr in trs:\n",
    "        tds = tr.find_all('td')\n",
    "        for td in tds:\n",
    "            if td.find('a') is not None:   \n",
    "                link = td.find('a')\n",
    "                part = link['href']\n",
    "                if part[0] == '/':\n",
    "                    listlink.append(f'https://villageinfo.in{part}')\n",
    "                else:\n",
    "                    listlink.append(f'https://villageinfo.in/{part}')\n",
    "    return listlink"
   ]
  },
  {
   "cell_type": "code",
   "execution_count": 6,
   "id": "df7606c9",
   "metadata": {
    "execution": {
     "iopub.execute_input": "2024-05-28T05:17:02.119647Z",
     "iopub.status.busy": "2024-05-28T05:17:02.119239Z",
     "iopub.status.idle": "2024-05-28T05:17:02.128206Z",
     "shell.execute_reply": "2024-05-28T05:17:02.126853Z"
    },
    "papermill": {
     "duration": 0.026288,
     "end_time": "2024-05-28T05:17:02.131047",
     "exception": false,
     "start_time": "2024-05-28T05:17:02.104759",
     "status": "completed"
    },
    "tags": []
   },
   "outputs": [],
   "source": [
    "def construct_table(table):\n",
    "    head = table.find('thead')\n",
    "    headlist = []\n",
    "    if head is not None:\n",
    "        heads = head.find_all('th')\n",
    "        for hd in heads:\n",
    "            txt = hd.text\n",
    "            headlist.append(txt)\n",
    "    \n",
    "    body = table.find('tbody')\n",
    "    trslist = body.find_all('tr')\n",
    "    table_body = []\n",
    "    for tr in trslist:\n",
    "        final_row = []\n",
    "        tds = tr.find_all('td')\n",
    "        for td in tds:\n",
    "            final_row.append(td.text)\n",
    "        table_body.append(final_row)\n",
    "        \n",
    "    if len(headlist) != 0:\n",
    "        final_table_list = [headlist] + table_body\n",
    "        return final_table_list\n",
    "    else:\n",
    "        final_table_list = table_body\n",
    "        return final_table_list"
   ]
  },
  {
   "cell_type": "markdown",
   "id": "8a6c83c7",
   "metadata": {
    "papermill": {
     "duration": 0.011601,
     "end_time": "2024-05-28T05:17:02.156266",
     "exception": false,
     "start_time": "2024-05-28T05:17:02.144665",
     "status": "completed"
    },
    "tags": []
   },
   "source": []
  },
  {
   "cell_type": "markdown",
   "id": "6d752fe2",
   "metadata": {
    "papermill": {
     "duration": 0.012037,
     "end_time": "2024-05-28T05:17:02.181443",
     "exception": false,
     "start_time": "2024-05-28T05:17:02.169406",
     "status": "completed"
    },
    "tags": []
   },
   "source": [
    "# get states"
   ]
  },
  {
   "cell_type": "code",
   "execution_count": 7,
   "id": "3eb0439d",
   "metadata": {
    "execution": {
     "iopub.execute_input": "2024-05-28T05:17:02.207291Z",
     "iopub.status.busy": "2024-05-28T05:17:02.206883Z",
     "iopub.status.idle": "2024-05-28T05:17:02.737354Z",
     "shell.execute_reply": "2024-05-28T05:17:02.735809Z"
    },
    "papermill": {
     "duration": 0.547145,
     "end_time": "2024-05-28T05:17:02.740612",
     "exception": false,
     "start_time": "2024-05-28T05:17:02.193467",
     "status": "completed"
    },
    "tags": []
   },
   "outputs": [
    {
     "data": {
      "text/plain": [
       "['https://villageinfo.in/andaman-&-nicobar-islands.html',\n",
       " 'https://villageinfo.in/andhra-pradesh.html',\n",
       " 'https://villageinfo.in/arunachal-pradesh.html',\n",
       " 'https://villageinfo.in/assam.html',\n",
       " 'https://villageinfo.in/bihar.html',\n",
       " 'https://villageinfo.in/chandigarh.html',\n",
       " 'https://villageinfo.in/chhattisgarh.html',\n",
       " 'https://villageinfo.in/dadra-&-nagar-haveli.html',\n",
       " 'https://villageinfo.in/daman-&-diu.html',\n",
       " 'https://villageinfo.in/delhi.html',\n",
       " 'https://villageinfo.in/goa.html',\n",
       " 'https://villageinfo.in/gujarat.html',\n",
       " 'https://villageinfo.in/haryana.html',\n",
       " 'https://villageinfo.in/himachal-pradesh.html',\n",
       " 'https://villageinfo.in/jammu-&-kashmir.html',\n",
       " 'https://villageinfo.in/jharkhand.html',\n",
       " 'https://villageinfo.in/karnataka.html',\n",
       " 'https://villageinfo.in/kerala.html',\n",
       " 'https://villageinfo.in/lakshadweep.html',\n",
       " 'https://villageinfo.in/madhya-pradesh.html',\n",
       " 'https://villageinfo.in/maharashtra.html',\n",
       " 'https://villageinfo.in/manipur.html',\n",
       " 'https://villageinfo.in/meghalaya.html',\n",
       " 'https://villageinfo.in/mizoram.html',\n",
       " 'https://villageinfo.in/nagaland.html',\n",
       " 'https://villageinfo.in/odisha.html',\n",
       " 'https://villageinfo.in/puducherry.html',\n",
       " 'https://villageinfo.in/punjab.html',\n",
       " 'https://villageinfo.in/rajasthan.html',\n",
       " 'https://villageinfo.in/sikkim.html',\n",
       " 'https://villageinfo.in/tamil-nadu.html',\n",
       " 'https://villageinfo.in/telangana.html',\n",
       " 'https://villageinfo.in/tripura.html',\n",
       " 'https://villageinfo.in/uttar-pradesh.html',\n",
       " 'https://villageinfo.in/uttarakhand.html',\n",
       " 'https://villageinfo.in/west-bengal.html',\n",
       " 'https://villageinfo.in/',\n",
       " 'https://villageinfo.in/contact.html',\n",
       " 'https://villageinfo.in/terms.html',\n",
       " 'https://villageinfo.in/privacy.html']"
      ]
     },
     "execution_count": 7,
     "metadata": {},
     "output_type": "execute_result"
    }
   ],
   "source": [
    "url = 'https://villageinfo.in/'\n",
    "soup = get_soup(url)\n",
    "states_list = get_all_links(soup)\n",
    "states_list"
   ]
  },
  {
   "cell_type": "markdown",
   "id": "6edce659",
   "metadata": {
    "papermill": {
     "duration": 0.01249,
     "end_time": "2024-05-28T05:17:02.765701",
     "exception": false,
     "start_time": "2024-05-28T05:17:02.753211",
     "status": "completed"
    },
    "tags": []
   },
   "source": [
    "# get districts in a state"
   ]
  },
  {
   "cell_type": "code",
   "execution_count": 8,
   "id": "76a3f4e4",
   "metadata": {
    "execution": {
     "iopub.execute_input": "2024-05-28T05:17:02.793294Z",
     "iopub.status.busy": "2024-05-28T05:17:02.792684Z",
     "iopub.status.idle": "2024-05-28T05:17:03.472743Z",
     "shell.execute_reply": "2024-05-28T05:17:03.471610Z"
    },
    "papermill": {
     "duration": 0.696749,
     "end_time": "2024-05-28T05:17:03.475150",
     "exception": false,
     "start_time": "2024-05-28T05:17:02.778401",
     "status": "completed"
    },
    "tags": []
   },
   "outputs": [
    {
     "data": {
      "text/plain": [
       "['https://villageinfo.in/maharashtra/ahmadnagar.html',\n",
       " 'https://villageinfo.in/maharashtra/akola.html',\n",
       " 'https://villageinfo.in/maharashtra/amravati.html',\n",
       " 'https://villageinfo.in/maharashtra/aurangabad.html',\n",
       " 'https://villageinfo.in/maharashtra/bhandara.html',\n",
       " 'https://villageinfo.in/maharashtra/bid.html',\n",
       " 'https://villageinfo.in/maharashtra/buldana.html',\n",
       " 'https://villageinfo.in/maharashtra/chandrapur.html',\n",
       " 'https://villageinfo.in/maharashtra/dhule.html',\n",
       " 'https://villageinfo.in/maharashtra/gadchiroli.html',\n",
       " 'https://villageinfo.in/maharashtra/gondiya.html',\n",
       " 'https://villageinfo.in/maharashtra/hingoli.html',\n",
       " 'https://villageinfo.in/maharashtra/jalgaon.html',\n",
       " 'https://villageinfo.in/maharashtra/jalna.html',\n",
       " 'https://villageinfo.in/maharashtra/kolhapur.html',\n",
       " 'https://villageinfo.in/maharashtra/latur.html',\n",
       " 'https://villageinfo.in/maharashtra/mumbai.html',\n",
       " 'https://villageinfo.in/maharashtra/mumbai-suburban.html',\n",
       " 'https://villageinfo.in/maharashtra/nagpur.html',\n",
       " 'https://villageinfo.in/maharashtra/nanded.html',\n",
       " 'https://villageinfo.in/maharashtra/nandurbar.html',\n",
       " 'https://villageinfo.in/maharashtra/nashik.html',\n",
       " 'https://villageinfo.in/maharashtra/osmanabad.html',\n",
       " 'https://villageinfo.in/maharashtra/parbhani.html',\n",
       " 'https://villageinfo.in/maharashtra/pune.html',\n",
       " 'https://villageinfo.in/maharashtra/raigarh.html',\n",
       " 'https://villageinfo.in/maharashtra/ratnagiri.html',\n",
       " 'https://villageinfo.in/maharashtra/sangli.html',\n",
       " 'https://villageinfo.in/maharashtra/satara.html',\n",
       " 'https://villageinfo.in/maharashtra/sindhudurg.html',\n",
       " 'https://villageinfo.in/maharashtra/solapur.html',\n",
       " 'https://villageinfo.in/maharashtra/thane.html',\n",
       " 'https://villageinfo.in/maharashtra/wardha.html',\n",
       " 'https://villageinfo.in/maharashtra/washim.html',\n",
       " 'https://villageinfo.in/maharashtra/yavatmal.html']"
      ]
     },
     "execution_count": 8,
     "metadata": {},
     "output_type": "execute_result"
    }
   ],
   "source": [
    "url2 = 'https://villageinfo.in/maharashtra.html'\n",
    "soup2 = get_soup(url2)\n",
    "dist_list = get_all_links_table(soup2)\n",
    "dist_list"
   ]
  },
  {
   "cell_type": "markdown",
   "id": "d8ecfbd2",
   "metadata": {
    "papermill": {
     "duration": 0.012119,
     "end_time": "2024-05-28T05:17:03.499737",
     "exception": false,
     "start_time": "2024-05-28T05:17:03.487618",
     "status": "completed"
    },
    "tags": []
   },
   "source": [
    "# Get talukas in a district"
   ]
  },
  {
   "cell_type": "code",
   "execution_count": 9,
   "id": "710b1b0b",
   "metadata": {
    "execution": {
     "iopub.execute_input": "2024-05-28T05:17:03.526750Z",
     "iopub.status.busy": "2024-05-28T05:17:03.526230Z",
     "iopub.status.idle": "2024-05-28T05:17:04.405806Z",
     "shell.execute_reply": "2024-05-28T05:17:04.404118Z"
    },
    "papermill": {
     "duration": 0.897613,
     "end_time": "2024-05-28T05:17:04.409861",
     "exception": false,
     "start_time": "2024-05-28T05:17:03.512248",
     "status": "completed"
    },
    "tags": []
   },
   "outputs": [
    {
     "data": {
      "text/plain": [
       "['https://villageinfo.in/maharashtra/nashik/baglan.html',\n",
       " 'https://villageinfo.in/maharashtra/nashik/chandvad.html',\n",
       " 'https://villageinfo.in/maharashtra/nashik/deola.html',\n",
       " 'https://villageinfo.in/maharashtra/nashik/dindori.html',\n",
       " 'https://villageinfo.in/maharashtra/nashik/igatpuri.html',\n",
       " 'https://villageinfo.in/maharashtra/nashik/kalwan.html',\n",
       " 'https://villageinfo.in/maharashtra/nashik/malegaon.html',\n",
       " 'https://villageinfo.in/maharashtra/nashik/nandgaon.html',\n",
       " 'https://villageinfo.in/maharashtra/nashik/nashik.html',\n",
       " 'https://villageinfo.in/maharashtra/nashik/niphad.html',\n",
       " 'https://villageinfo.in/maharashtra/nashik/peint.html',\n",
       " 'https://villageinfo.in/maharashtra/nashik/sinnar.html',\n",
       " 'https://villageinfo.in/maharashtra/nashik/surgana.html',\n",
       " 'https://villageinfo.in/maharashtra/nashik/trimbakeshwar.html',\n",
       " 'https://villageinfo.in/maharashtra/nashik/yevla.html']"
      ]
     },
     "execution_count": 9,
     "metadata": {},
     "output_type": "execute_result"
    }
   ],
   "source": [
    "url2 = 'https://villageinfo.in/maharashtra/nashik.html'\n",
    "soup2 = get_soup(url2)\n",
    "talukas_list = get_all_links_table(soup2)\n",
    "talukas_list"
   ]
  },
  {
   "cell_type": "markdown",
   "id": "8017512a",
   "metadata": {
    "papermill": {
     "duration": 0.01532,
     "end_time": "2024-05-28T05:17:04.441362",
     "exception": false,
     "start_time": "2024-05-28T05:17:04.426042",
     "status": "completed"
    },
    "tags": []
   },
   "source": [
    "# get village in a taluka"
   ]
  },
  {
   "cell_type": "code",
   "execution_count": 10,
   "id": "5dee68a1",
   "metadata": {
    "execution": {
     "iopub.execute_input": "2024-05-28T05:17:04.478470Z",
     "iopub.status.busy": "2024-05-28T05:17:04.477986Z",
     "iopub.status.idle": "2024-05-28T05:17:05.416517Z",
     "shell.execute_reply": "2024-05-28T05:17:05.415262Z"
    },
    "papermill": {
     "duration": 0.959897,
     "end_time": "2024-05-28T05:17:05.419473",
     "exception": false,
     "start_time": "2024-05-28T05:17:04.459576",
     "status": "completed"
    },
    "tags": []
   },
   "outputs": [
    {
     "data": {
      "text/plain": [
       "['https://villageinfo.in/maharashtra/nashik/niphad/ahergaon.html',\n",
       " 'https://villageinfo.in/maharashtra/nashik/niphad/amrut-nagar.html',\n",
       " 'https://villageinfo.in/maharashtra/nashik/niphad/antarweli.html',\n",
       " 'https://villageinfo.in/maharashtra/nashik/niphad/aurangpur.html',\n",
       " 'https://villageinfo.in/maharashtra/nashik/niphad/banganganagar.html',\n",
       " 'https://villageinfo.in/maharashtra/nashik/niphad/behed.html',\n",
       " 'https://villageinfo.in/maharashtra/nashik/niphad/bharwas.html',\n",
       " 'https://villageinfo.in/maharashtra/nashik/niphad/bhendali.html',\n",
       " 'https://villageinfo.in/maharashtra/nashik/niphad/bhuse.html',\n",
       " 'https://villageinfo.in/maharashtra/nashik/niphad/bokaddare.html',\n",
       " 'https://villageinfo.in/maharashtra/nashik/niphad/bramhangaon-vanas.html',\n",
       " 'https://villageinfo.in/maharashtra/nashik/niphad/bramhangaon-vinchur.html',\n",
       " 'https://villageinfo.in/maharashtra/nashik/niphad/bramhanwade.html',\n",
       " 'https://villageinfo.in/maharashtra/nashik/niphad/chandori.html',\n",
       " 'https://villageinfo.in/maharashtra/nashik/niphad/chapadgaon.html',\n",
       " 'https://villageinfo.in/maharashtra/nashik/niphad/chatori.html',\n",
       " 'https://villageinfo.in/maharashtra/nashik/niphad/chehedi-kh.html',\n",
       " 'https://villageinfo.in/maharashtra/nashik/niphad/chitegaon.html',\n",
       " 'https://villageinfo.in/maharashtra/nashik/niphad/dahegaon.html',\n",
       " 'https://villageinfo.in/maharashtra/nashik/niphad/darna-sangvi.html',\n",
       " 'https://villageinfo.in/maharashtra/nashik/niphad/datyane.html',\n",
       " 'https://villageinfo.in/maharashtra/nashik/niphad/davachwadi.html',\n",
       " 'https://villageinfo.in/maharashtra/nashik/niphad/deogaon.html',\n",
       " 'https://villageinfo.in/maharashtra/nashik/niphad/deopur.html',\n",
       " 'https://villageinfo.in/maharashtra/nashik/niphad/dhanore.html',\n",
       " 'https://villageinfo.in/maharashtra/nashik/niphad/dharangaon-khadak.html',\n",
       " 'https://villageinfo.in/maharashtra/nashik/niphad/dharangaon-veer.html',\n",
       " 'https://villageinfo.in/maharashtra/nashik/niphad/dindori.html',\n",
       " 'https://villageinfo.in/maharashtra/nashik/niphad/dixi.html',\n",
       " 'https://villageinfo.in/maharashtra/nashik/niphad/dongargaon.html',\n",
       " 'https://villageinfo.in/maharashtra/nashik/niphad/gajarwadi.html',\n",
       " 'https://villageinfo.in/maharashtra/nashik/niphad/gitakunj.html',\n",
       " 'https://villageinfo.in/maharashtra/nashik/niphad/golegaon.html',\n",
       " 'https://villageinfo.in/maharashtra/nashik/niphad/gondegaon.html',\n",
       " 'https://villageinfo.in/maharashtra/nashik/niphad/gorthan.html',\n",
       " 'https://villageinfo.in/maharashtra/nashik/niphad/hanumannagar.html',\n",
       " 'https://villageinfo.in/maharashtra/nashik/niphad/jalgaon.html',\n",
       " 'https://villageinfo.in/maharashtra/nashik/niphad/jivhale.html',\n",
       " 'https://villageinfo.in/maharashtra/nashik/niphad/kalgaon.html',\n",
       " 'https://villageinfo.in/maharashtra/nashik/niphad/kanlad.html',\n",
       " 'https://villageinfo.in/maharashtra/nashik/niphad/karanjgaon.html',\n",
       " 'https://villageinfo.in/maharashtra/nashik/niphad/karanji-kh.html',\n",
       " 'https://villageinfo.in/maharashtra/nashik/niphad/karsul.html',\n",
       " 'https://villageinfo.in/maharashtra/nashik/niphad/kasabe-sukene.html',\n",
       " 'https://villageinfo.in/maharashtra/nashik/niphad/kathargaon.html',\n",
       " 'https://villageinfo.in/maharashtra/nashik/niphad/khadak-malegaon.html',\n",
       " 'https://villageinfo.in/maharashtra/nashik/niphad/khangaon-najik.html',\n",
       " 'https://villageinfo.in/maharashtra/nashik/niphad/khangaon-thadi.html',\n",
       " 'https://villageinfo.in/maharashtra/nashik/niphad/khedale-zunge.html',\n",
       " 'https://villageinfo.in/maharashtra/nashik/niphad/khede.html',\n",
       " 'https://villageinfo.in/maharashtra/nashik/niphad/kokangaon.html',\n",
       " 'https://villageinfo.in/maharashtra/nashik/niphad/kotamgaon.html',\n",
       " 'https://villageinfo.in/maharashtra/nashik/niphad/kothure.html',\n",
       " 'https://villageinfo.in/maharashtra/nashik/niphad/kumbhari.html',\n",
       " 'https://villageinfo.in/maharashtra/nashik/niphad/kurudgaon.html',\n",
       " 'https://villageinfo.in/maharashtra/nashik/niphad/lalpadi.html',\n",
       " 'https://villageinfo.in/maharashtra/nashik/niphad/lasalgaon.html',\n",
       " 'https://villageinfo.in/maharashtra/nashik/niphad/lonwadi.html',\n",
       " 'https://villageinfo.in/maharashtra/nashik/niphad/mahadevnagar.html',\n",
       " 'https://villageinfo.in/maharashtra/nashik/niphad/mahajanpur.html',\n",
       " 'https://villageinfo.in/maharashtra/nashik/niphad/majargaon.html',\n",
       " 'https://villageinfo.in/maharashtra/nashik/niphad/manori-kh.html',\n",
       " 'https://villageinfo.in/maharashtra/nashik/niphad/maralgoi-kh.html',\n",
       " 'https://villageinfo.in/maharashtra/nashik/niphad/mauje-sukene.html',\n",
       " 'https://villageinfo.in/maharashtra/nashik/niphad/mavalgoi-bk.html',\n",
       " 'https://villageinfo.in/maharashtra/nashik/niphad/mhalsakore.html',\n",
       " 'https://villageinfo.in/maharashtra/nashik/niphad/mukhed.html',\n",
       " 'https://villageinfo.in/maharashtra/nashik/niphad/nagapur.html',\n",
       " 'https://villageinfo.in/maharashtra/nashik/niphad/naitale.html',\n",
       " 'https://villageinfo.in/maharashtra/nashik/niphad/nandgaon.html',\n",
       " 'https://villageinfo.in/maharashtra/nashik/niphad/nandur-kh.html',\n",
       " 'https://villageinfo.in/maharashtra/nashik/niphad/nandur-madhyameshwar.html',\n",
       " 'https://villageinfo.in/maharashtra/nashik/niphad/nandurdi.html',\n",
       " 'https://villageinfo.in/maharashtra/nashik/niphad/narayan-tembhi.html',\n",
       " 'https://villageinfo.in/maharashtra/nashik/niphad/narayangaon.html',\n",
       " 'https://villageinfo.in/maharashtra/nashik/niphad/nimgaon-wakada.html',\n",
       " 'https://villageinfo.in/maharashtra/nashik/niphad/niphad.html',\n",
       " 'https://villageinfo.in/maharashtra/nashik/niphad/oney.html',\n",
       " 'https://villageinfo.in/maharashtra/nashik/niphad/ozar.html',\n",
       " 'https://villageinfo.in/maharashtra/nashik/niphad/pachore-bk.html',\n",
       " 'https://villageinfo.in/maharashtra/nashik/niphad/pachore-kh.html',\n",
       " 'https://villageinfo.in/maharashtra/nashik/niphad/pachorewani.html',\n",
       " 'https://villageinfo.in/maharashtra/nashik/niphad/palkhed.html',\n",
       " 'https://villageinfo.in/maharashtra/nashik/niphad/panchkeshwar.html',\n",
       " 'https://villageinfo.in/maharashtra/nashik/niphad/pimpalas.html',\n",
       " 'https://villageinfo.in/maharashtra/nashik/niphad/pimpalgaon-baswant.html',\n",
       " 'https://villageinfo.in/maharashtra/nashik/niphad/pimpalgaon-najik.html',\n",
       " 'https://villageinfo.in/maharashtra/nashik/niphad/pimpalgaon-nipani.html',\n",
       " 'https://villageinfo.in/maharashtra/nashik/niphad/pimpri.html',\n",
       " 'https://villageinfo.in/maharashtra/nashik/niphad/ramnagar.html',\n",
       " 'https://villageinfo.in/maharashtra/nashik/niphad/rampur.html',\n",
       " 'https://villageinfo.in/maharashtra/nashik/niphad/ranwad.html',\n",
       " 'https://villageinfo.in/maharashtra/nashik/niphad/rasalpur.html',\n",
       " 'https://villageinfo.in/maharashtra/nashik/niphad/raulas.html',\n",
       " 'https://villageinfo.in/maharashtra/nashik/niphad/redgaon.html',\n",
       " 'https://villageinfo.in/maharashtra/nashik/niphad/rui.html',\n",
       " 'https://villageinfo.in/maharashtra/nashik/niphad/saikhede.html',\n",
       " 'https://villageinfo.in/maharashtra/nashik/niphad/sakore.html',\n",
       " 'https://villageinfo.in/maharashtra/nashik/niphad/sarole-kh.html',\n",
       " 'https://villageinfo.in/maharashtra/nashik/niphad/sarole-thadi.html',\n",
       " 'https://villageinfo.in/maharashtra/nashik/niphad/sawali.html',\n",
       " 'https://villageinfo.in/maharashtra/nashik/niphad/sawargaon.html',\n",
       " 'https://villageinfo.in/maharashtra/nashik/niphad/shimpi-takali.html',\n",
       " 'https://villageinfo.in/maharashtra/nashik/niphad/shingave.html',\n",
       " 'https://villageinfo.in/maharashtra/nashik/niphad/shirasgaon.html',\n",
       " 'https://villageinfo.in/maharashtra/nashik/niphad/shirwade-wakad.html',\n",
       " 'https://villageinfo.in/maharashtra/nashik/niphad/shirwade-wani.html',\n",
       " 'https://villageinfo.in/maharashtra/nashik/niphad/shivadi.html',\n",
       " 'https://villageinfo.in/maharashtra/nashik/niphad/shivare.html',\n",
       " 'https://villageinfo.in/maharashtra/nashik/niphad/shiwapur.html',\n",
       " 'https://villageinfo.in/maharashtra/nashik/niphad/shriram-nagar.html',\n",
       " 'https://villageinfo.in/maharashtra/nashik/niphad/shrirampur.html',\n",
       " 'https://villageinfo.in/maharashtra/nashik/niphad/sonewadi-bk.html',\n",
       " 'https://villageinfo.in/maharashtra/nashik/niphad/sonewadi-kh.html',\n",
       " 'https://villageinfo.in/maharashtra/nashik/niphad/songaon.html',\n",
       " 'https://villageinfo.in/maharashtra/nashik/niphad/subhash-nagar.html',\n",
       " 'https://villageinfo.in/maharashtra/nashik/niphad/sundarpur.html',\n",
       " 'https://villageinfo.in/maharashtra/nashik/niphad/takali-vinchur.html',\n",
       " 'https://villageinfo.in/maharashtra/nashik/niphad/talwade.html',\n",
       " 'https://villageinfo.in/maharashtra/nashik/niphad/tamaswadi.html',\n",
       " 'https://villageinfo.in/maharashtra/nashik/niphad/tarukhedle.html',\n",
       " 'https://villageinfo.in/maharashtra/nashik/niphad/thergaon.html',\n",
       " 'https://villageinfo.in/maharashtra/nashik/niphad/thetale.html',\n",
       " 'https://villageinfo.in/maharashtra/nashik/niphad/ugaon.html',\n",
       " 'https://villageinfo.in/maharashtra/nashik/niphad/umbarkhed.html',\n",
       " 'https://villageinfo.in/maharashtra/nashik/niphad/vadali-najik.html',\n",
       " 'https://villageinfo.in/maharashtra/nashik/niphad/vanasgaon.html',\n",
       " 'https://villageinfo.in/maharashtra/nashik/niphad/varhe-davna.html',\n",
       " 'https://villageinfo.in/maharashtra/nashik/niphad/vijay-nagar.html',\n",
       " 'https://villageinfo.in/maharashtra/nashik/niphad/vinchur.html',\n",
       " 'https://villageinfo.in/maharashtra/nashik/niphad/vishnu-nagar.html',\n",
       " 'https://villageinfo.in/maharashtra/nashik/niphad/vitthalwadi.html',\n",
       " 'https://villageinfo.in/maharashtra/nashik/niphad/wahegaon.html',\n",
       " 'https://villageinfo.in/maharashtra/nashik/niphad/wakad.html',\n",
       " 'https://villageinfo.in/maharashtra/nashik/niphad/wavi.html',\n",
       " 'https://villageinfo.in/maharashtra/nashik/niphad/welapur.html']"
      ]
     },
     "execution_count": 10,
     "metadata": {},
     "output_type": "execute_result"
    }
   ],
   "source": [
    "url3 = 'https://villageinfo.in/maharashtra/nashik/niphad.html'\n",
    "soup3 = get_soup(url3)\n",
    "vill_list = get_all_links_table(soup3)\n",
    "vill_list"
   ]
  },
  {
   "cell_type": "markdown",
   "id": "ba355f77",
   "metadata": {
    "papermill": {
     "duration": 0.01269,
     "end_time": "2024-05-28T05:17:05.446596",
     "exception": false,
     "start_time": "2024-05-28T05:17:05.433906",
     "status": "completed"
    },
    "tags": []
   },
   "source": [
    "# filter out now "
   ]
  },
  {
   "cell_type": "markdown",
   "id": "d65b655a",
   "metadata": {
    "papermill": {
     "duration": 0.012696,
     "end_time": "2024-05-28T05:17:05.472147",
     "exception": false,
     "start_time": "2024-05-28T05:17:05.459451",
     "status": "completed"
    },
    "tags": []
   },
   "source": [
    "## states"
   ]
  },
  {
   "cell_type": "code",
   "execution_count": 11,
   "id": "7da67f6f",
   "metadata": {
    "execution": {
     "iopub.execute_input": "2024-05-28T05:17:05.500166Z",
     "iopub.status.busy": "2024-05-28T05:17:05.499115Z",
     "iopub.status.idle": "2024-05-28T05:17:05.507201Z",
     "shell.execute_reply": "2024-05-28T05:17:05.506088Z"
    },
    "papermill": {
     "duration": 0.024442,
     "end_time": "2024-05-28T05:17:05.509458",
     "exception": false,
     "start_time": "2024-05-28T05:17:05.485016",
     "status": "completed"
    },
    "tags": []
   },
   "outputs": [
    {
     "data": {
      "text/plain": [
       "['https://villageinfo.in/andaman-&-nicobar-islands.html',\n",
       " 'https://villageinfo.in/andhra-pradesh.html',\n",
       " 'https://villageinfo.in/arunachal-pradesh.html',\n",
       " 'https://villageinfo.in/assam.html',\n",
       " 'https://villageinfo.in/bihar.html',\n",
       " 'https://villageinfo.in/chandigarh.html',\n",
       " 'https://villageinfo.in/chhattisgarh.html',\n",
       " 'https://villageinfo.in/dadra-&-nagar-haveli.html',\n",
       " 'https://villageinfo.in/daman-&-diu.html',\n",
       " 'https://villageinfo.in/delhi.html',\n",
       " 'https://villageinfo.in/goa.html',\n",
       " 'https://villageinfo.in/gujarat.html',\n",
       " 'https://villageinfo.in/haryana.html',\n",
       " 'https://villageinfo.in/himachal-pradesh.html',\n",
       " 'https://villageinfo.in/jammu-&-kashmir.html',\n",
       " 'https://villageinfo.in/jharkhand.html',\n",
       " 'https://villageinfo.in/karnataka.html',\n",
       " 'https://villageinfo.in/kerala.html',\n",
       " 'https://villageinfo.in/lakshadweep.html',\n",
       " 'https://villageinfo.in/madhya-pradesh.html',\n",
       " 'https://villageinfo.in/maharashtra.html',\n",
       " 'https://villageinfo.in/manipur.html',\n",
       " 'https://villageinfo.in/meghalaya.html',\n",
       " 'https://villageinfo.in/mizoram.html',\n",
       " 'https://villageinfo.in/nagaland.html',\n",
       " 'https://villageinfo.in/odisha.html',\n",
       " 'https://villageinfo.in/puducherry.html',\n",
       " 'https://villageinfo.in/punjab.html',\n",
       " 'https://villageinfo.in/rajasthan.html',\n",
       " 'https://villageinfo.in/sikkim.html',\n",
       " 'https://villageinfo.in/tamil-nadu.html',\n",
       " 'https://villageinfo.in/telangana.html',\n",
       " 'https://villageinfo.in/tripura.html',\n",
       " 'https://villageinfo.in/uttar-pradesh.html',\n",
       " 'https://villageinfo.in/uttarakhand.html',\n",
       " 'https://villageinfo.in/west-bengal.html']"
      ]
     },
     "execution_count": 11,
     "metadata": {},
     "output_type": "execute_result"
    }
   ],
   "source": [
    "states_list_f = states_list[:-4]\n",
    "states_list_f"
   ]
  },
  {
   "cell_type": "markdown",
   "id": "b1178288",
   "metadata": {
    "papermill": {
     "duration": 0.012694,
     "end_time": "2024-05-28T05:17:05.535361",
     "exception": false,
     "start_time": "2024-05-28T05:17:05.522667",
     "status": "completed"
    },
    "tags": []
   },
   "source": [
    "# mass scrapping"
   ]
  },
  {
   "cell_type": "code",
   "execution_count": 12,
   "id": "9d31ec06",
   "metadata": {
    "execution": {
     "iopub.execute_input": "2024-05-28T05:17:05.563150Z",
     "iopub.status.busy": "2024-05-28T05:17:05.562733Z",
     "iopub.status.idle": "2024-05-28T05:17:05.568851Z",
     "shell.execute_reply": "2024-05-28T05:17:05.567636Z"
    },
    "papermill": {
     "duration": 0.02271,
     "end_time": "2024-05-28T05:17:05.571125",
     "exception": false,
     "start_time": "2024-05-28T05:17:05.548415",
     "status": "completed"
    },
    "tags": []
   },
   "outputs": [],
   "source": [
    "# district_list_mega = []\n",
    "# talukas_list_mega = []\n",
    "# villages_list_mega = []\n",
    "\n",
    "# for state_link in states_list_f:\n",
    "#     # print(state_link)\n",
    "#     soup = get_soup(state_link)\n",
    "#     district_list = get_all_links_table(soup)\n",
    "#     district_list_mega.extend(district_list)  \n",
    "\n",
    "#     for district_link in district_list:\n",
    "#         # print(district_link)\n",
    "#         soup = get_soup(district_link)\n",
    "#         talukas_list = get_all_links_table(soup)\n",
    "#         talukas_list_mega.extend(talukas_list) \n",
    "\n",
    "#         for talukas_link in talukas_list:\n",
    "#             # print(talukas_link)\n",
    "#             soup = get_soup(talukas_link)\n",
    "#             villages_list = get_all_links_table(soup)\n",
    "#             villages_list_mega.extend(villages_list)  \n",
    "        \n",
    "#         time.sleep(5)\n",
    "#     time.sleep(10)\n",
    "#     filename = state_link.replace('/','.')\n",
    "#     filename = filename.split('.')[-2]\n",
    "#     with open(f'{filename}.txt', 'a') as file:  \n",
    "#         for village in villages_list_mega:\n",
    "#             file.write(f\"{village}\\n\")\n",
    "#     print(f'file : {filename} written successfully .\\n')\n",
    "\n",
    "# print(len(district_list_mega))\n",
    "# print(len(talukas_list_mega))\n",
    "# print(len(villages_list_mega))"
   ]
  },
  {
   "cell_type": "markdown",
   "id": "86b56157",
   "metadata": {
    "papermill": {
     "duration": 0.012673,
     "end_time": "2024-05-28T05:17:05.596939",
     "exception": false,
     "start_time": "2024-05-28T05:17:05.584266",
     "status": "completed"
    },
    "tags": []
   },
   "source": [
    "# code to collect data in detail "
   ]
  },
  {
   "cell_type": "code",
   "execution_count": 13,
   "id": "007e4ed7",
   "metadata": {
    "execution": {
     "iopub.execute_input": "2024-05-28T05:17:05.629189Z",
     "iopub.status.busy": "2024-05-28T05:17:05.628716Z",
     "iopub.status.idle": "2024-05-28T05:17:05.634146Z",
     "shell.execute_reply": "2024-05-28T05:17:05.632665Z"
    },
    "papermill": {
     "duration": 0.026406,
     "end_time": "2024-05-28T05:17:05.636954",
     "exception": false,
     "start_time": "2024-05-28T05:17:05.610548",
     "status": "completed"
    },
    "tags": []
   },
   "outputs": [],
   "source": [
    "url = \"https://villageinfo.in/maharashtra/nashik/niphad/ahergaon.html\""
   ]
  },
  {
   "cell_type": "code",
   "execution_count": 14,
   "id": "2df3575f",
   "metadata": {
    "execution": {
     "iopub.execute_input": "2024-05-28T05:17:05.672782Z",
     "iopub.status.busy": "2024-05-28T05:17:05.671810Z",
     "iopub.status.idle": "2024-05-28T05:17:06.197260Z",
     "shell.execute_reply": "2024-05-28T05:17:06.196234Z"
    },
    "papermill": {
     "duration": 0.548439,
     "end_time": "2024-05-28T05:17:06.199879",
     "exception": false,
     "start_time": "2024-05-28T05:17:05.651440",
     "status": "completed"
    },
    "tags": []
   },
   "outputs": [],
   "source": [
    "r = rq.get(url,headers = headers)"
   ]
  },
  {
   "cell_type": "code",
   "execution_count": 15,
   "id": "a84c0c8d",
   "metadata": {
    "execution": {
     "iopub.execute_input": "2024-05-28T05:17:06.228403Z",
     "iopub.status.busy": "2024-05-28T05:17:06.227400Z",
     "iopub.status.idle": "2024-05-28T05:17:06.247705Z",
     "shell.execute_reply": "2024-05-28T05:17:06.246597Z"
    },
    "papermill": {
     "duration": 0.037639,
     "end_time": "2024-05-28T05:17:06.250676",
     "exception": false,
     "start_time": "2024-05-28T05:17:06.213037",
     "status": "completed"
    },
    "tags": []
   },
   "outputs": [],
   "source": [
    "soup = BeautifulSoup(r.text,'html.parser')"
   ]
  },
  {
   "cell_type": "code",
   "execution_count": 16,
   "id": "7bec4408",
   "metadata": {
    "execution": {
     "iopub.execute_input": "2024-05-28T05:17:06.279858Z",
     "iopub.status.busy": "2024-05-28T05:17:06.279490Z",
     "iopub.status.idle": "2024-05-28T05:17:06.285061Z",
     "shell.execute_reply": "2024-05-28T05:17:06.283720Z"
    },
    "papermill": {
     "duration": 0.023304,
     "end_time": "2024-05-28T05:17:06.287391",
     "exception": false,
     "start_time": "2024-05-28T05:17:06.264087",
     "status": "completed"
    },
    "tags": []
   },
   "outputs": [],
   "source": [
    "tables = soup.find('table')"
   ]
  },
  {
   "cell_type": "code",
   "execution_count": 17,
   "id": "addec717",
   "metadata": {
    "execution": {
     "iopub.execute_input": "2024-05-28T05:17:06.315479Z",
     "iopub.status.busy": "2024-05-28T05:17:06.315045Z",
     "iopub.status.idle": "2024-05-28T05:17:06.336965Z",
     "shell.execute_reply": "2024-05-28T05:17:06.335764Z"
    },
    "papermill": {
     "duration": 0.038961,
     "end_time": "2024-05-28T05:17:06.339584",
     "exception": false,
     "start_time": "2024-05-28T05:17:06.300623",
     "status": "completed"
    },
    "tags": []
   },
   "outputs": [
    {
     "data": {
      "text/html": [
       "<div>\n",
       "<style scoped>\n",
       "    .dataframe tbody tr th:only-of-type {\n",
       "        vertical-align: middle;\n",
       "    }\n",
       "\n",
       "    .dataframe tbody tr th {\n",
       "        vertical-align: top;\n",
       "    }\n",
       "\n",
       "    .dataframe thead th {\n",
       "        text-align: right;\n",
       "    }\n",
       "</style>\n",
       "<table border=\"1\" class=\"dataframe\">\n",
       "  <thead>\n",
       "    <tr style=\"text-align: right;\">\n",
       "      <th></th>\n",
       "      <th>0</th>\n",
       "      <th>1</th>\n",
       "      <th>2</th>\n",
       "      <th>3</th>\n",
       "    </tr>\n",
       "  </thead>\n",
       "  <tbody>\n",
       "    <tr>\n",
       "      <th>0</th>\n",
       "      <td>Particulars</td>\n",
       "      <td>Total</td>\n",
       "      <td>Male</td>\n",
       "      <td>Female</td>\n",
       "    </tr>\n",
       "    <tr>\n",
       "      <th>1</th>\n",
       "      <td>Total Population</td>\n",
       "      <td>3,107</td>\n",
       "      <td>1,618</td>\n",
       "      <td>1,489</td>\n",
       "    </tr>\n",
       "    <tr>\n",
       "      <th>2</th>\n",
       "      <td>Literate Population</td>\n",
       "      <td>2,328</td>\n",
       "      <td>1,276</td>\n",
       "      <td>1,052</td>\n",
       "    </tr>\n",
       "    <tr>\n",
       "      <th>3</th>\n",
       "      <td>Illiterate Population</td>\n",
       "      <td>779</td>\n",
       "      <td>342</td>\n",
       "      <td>437</td>\n",
       "    </tr>\n",
       "  </tbody>\n",
       "</table>\n",
       "</div>"
      ],
      "text/plain": [
       "                       0      1      2       3\n",
       "0            Particulars  Total   Male  Female\n",
       "1       Total Population  3,107  1,618   1,489\n",
       "2    Literate Population  2,328  1,276   1,052\n",
       "3  Illiterate Population    779    342     437"
      ]
     },
     "execution_count": 17,
     "metadata": {},
     "output_type": "execute_result"
    }
   ],
   "source": [
    "tables = construct_table(tables)\n",
    "tables_df = pd.DataFrame(tables)\n",
    "tables_df"
   ]
  },
  {
   "cell_type": "code",
   "execution_count": 18,
   "id": "7762938e",
   "metadata": {
    "execution": {
     "iopub.execute_input": "2024-05-28T05:17:06.368273Z",
     "iopub.status.busy": "2024-05-28T05:17:06.367865Z",
     "iopub.status.idle": "2024-05-28T05:17:06.377084Z",
     "shell.execute_reply": "2024-05-28T05:17:06.375743Z"
    },
    "papermill": {
     "duration": 0.027442,
     "end_time": "2024-05-28T05:17:06.380585",
     "exception": false,
     "start_time": "2024-05-28T05:17:06.353143",
     "status": "completed"
    },
    "tags": []
   },
   "outputs": [
    {
     "name": "stdout",
     "output_type": "stream",
     "text": [
      "[['Particulars', 'Total', 'Male', 'Female'], ['Total Population', '3,107', '1,618', '1,489'], ['Literate Population', '2,328', '1,276', '1,052'], ['Illiterate Population', '779', '342', '437']] \n",
      "\n",
      "\n",
      "[['Ahergaon - Village Overview'], ['Gram Panchayat : ', 'Ahergaon'], ['Block / Tehsil : ', 'Niphad'], ['District : ', 'Nashik'], ['State : ', 'Maharashtra'], ['Pincode : ', 'N/A'], ['Area : ', '852 hectares'], ['Population : ', '3,107'], ['Households : ', '594'], ['Assembly Constituency : ', 'Niphad'], ['Parliament Constituency : ', 'Dindori'], ['Nearest Town : ', 'Nashik (37 km)']] \n",
      "\n",
      "\n",
      "[['Related Pages'], ['List of Villages in Niphad'], ['List of Tehsils in Nashik'], ['List of Districts in Maharashtra']] \n",
      "\n",
      "\n"
     ]
    }
   ],
   "source": [
    "tables = soup.find_all('table')\n",
    "\n",
    "for i in tables:\n",
    "    tab = construct_table(i)\n",
    "    tables_df = pd.DataFrame(tab)\n",
    "    print(tab,'\\n\\n')"
   ]
  },
  {
   "cell_type": "code",
   "execution_count": 19,
   "id": "e21a2855",
   "metadata": {
    "execution": {
     "iopub.execute_input": "2024-05-28T05:17:06.409905Z",
     "iopub.status.busy": "2024-05-28T05:17:06.409536Z",
     "iopub.status.idle": "2024-05-28T05:17:06.418596Z",
     "shell.execute_reply": "2024-05-28T05:17:06.417262Z"
    },
    "papermill": {
     "duration": 0.02658,
     "end_time": "2024-05-28T05:17:06.421137",
     "exception": false,
     "start_time": "2024-05-28T05:17:06.394557",
     "status": "completed"
    },
    "tags": []
   },
   "outputs": [
    {
     "data": {
      "text/plain": [
       "[<div class=\"column\" data-label=\"Connectivity Type\">Public Bus Service</div>,\n",
       " <div class=\"column\" data-label=\"Connectivity Type\">Private Bus Service</div>,\n",
       " <div class=\"column\" data-label=\"Connectivity Type\">Railway Station</div>]"
      ]
     },
     "execution_count": 19,
     "metadata": {},
     "output_type": "execute_result"
    }
   ],
   "source": [
    "soup.find_all('div',{'data-label':'Connectivity Type'})"
   ]
  },
  {
   "cell_type": "code",
   "execution_count": 20,
   "id": "1c72bfbd",
   "metadata": {
    "execution": {
     "iopub.execute_input": "2024-05-28T05:17:06.449937Z",
     "iopub.status.busy": "2024-05-28T05:17:06.449560Z",
     "iopub.status.idle": "2024-05-28T05:17:06.458303Z",
     "shell.execute_reply": "2024-05-28T05:17:06.457273Z"
    },
    "papermill": {
     "duration": 0.02645,
     "end_time": "2024-05-28T05:17:06.461147",
     "exception": false,
     "start_time": "2024-05-28T05:17:06.434697",
     "status": "completed"
    },
    "tags": []
   },
   "outputs": [
    {
     "data": {
      "text/plain": [
       "[<div class=\"column\" data-label=\"Status\">Status</div>,\n",
       " <div class=\"column\" data-label=\"Status\">Available within village</div>,\n",
       " <div class=\"column\" data-label=\"Status\">Available within 5 - 10 km distance</div>,\n",
       " <div class=\"column\" data-label=\"Status\">Available within 10+ km distance</div>]"
      ]
     },
     "execution_count": 20,
     "metadata": {},
     "output_type": "execute_result"
    }
   ],
   "source": [
    "soup.find_all('div',{'data-label':'Status'})"
   ]
  },
  {
   "cell_type": "code",
   "execution_count": 21,
   "id": "95af03f7",
   "metadata": {
    "execution": {
     "iopub.execute_input": "2024-05-28T05:17:06.491417Z",
     "iopub.status.busy": "2024-05-28T05:17:06.490780Z",
     "iopub.status.idle": "2024-05-28T05:17:06.494676Z",
     "shell.execute_reply": "2024-05-28T05:17:06.493879Z"
    },
    "papermill": {
     "duration": 0.021397,
     "end_time": "2024-05-28T05:17:06.496888",
     "exception": false,
     "start_time": "2024-05-28T05:17:06.475491",
     "status": "completed"
    },
    "tags": []
   },
   "outputs": [],
   "source": [
    "final_data_list = {}"
   ]
  },
  {
   "cell_type": "markdown",
   "id": "e2dfbaff",
   "metadata": {
    "papermill": {
     "duration": 0.013674,
     "end_time": "2024-05-28T05:17:06.524635",
     "exception": false,
     "start_time": "2024-05-28T05:17:06.510961",
     "status": "completed"
    },
    "tags": []
   },
   "source": [
    "# Ned to get latitude and longitude "
   ]
  },
  {
   "cell_type": "code",
   "execution_count": 22,
   "id": "75a2c969",
   "metadata": {
    "execution": {
     "iopub.execute_input": "2024-05-28T05:17:06.554809Z",
     "iopub.status.busy": "2024-05-28T05:17:06.554185Z",
     "iopub.status.idle": "2024-05-28T05:17:06.557975Z",
     "shell.execute_reply": "2024-05-28T05:17:06.557187Z"
    },
    "papermill": {
     "duration": 0.021373,
     "end_time": "2024-05-28T05:17:06.560290",
     "exception": false,
     "start_time": "2024-05-28T05:17:06.538917",
     "status": "completed"
    },
    "tags": []
   },
   "outputs": [],
   "source": [
    "# https://www.geonames.org/search.html?q=vinchur%2Cnashik%2Cmaharashtra&country=IN"
   ]
  },
  {
   "cell_type": "code",
   "execution_count": 23,
   "id": "19b9da85",
   "metadata": {
    "execution": {
     "iopub.execute_input": "2024-05-28T05:17:06.589939Z",
     "iopub.status.busy": "2024-05-28T05:17:06.589570Z",
     "iopub.status.idle": "2024-05-28T05:17:08.017274Z",
     "shell.execute_reply": "2024-05-28T05:17:08.015614Z"
    },
    "papermill": {
     "duration": 1.446044,
     "end_time": "2024-05-28T05:17:08.020539",
     "exception": false,
     "start_time": "2024-05-28T05:17:06.574495",
     "status": "completed"
    },
    "tags": []
   },
   "outputs": [
    {
     "data": {
      "text/html": [
       "<div>\n",
       "<style scoped>\n",
       "    .dataframe tbody tr th:only-of-type {\n",
       "        vertical-align: middle;\n",
       "    }\n",
       "\n",
       "    .dataframe tbody tr th {\n",
       "        vertical-align: top;\n",
       "    }\n",
       "\n",
       "    .dataframe thead th {\n",
       "        text-align: right;\n",
       "    }\n",
       "</style>\n",
       "<table border=\"1\" class=\"dataframe\">\n",
       "  <thead>\n",
       "    <tr style=\"text-align: right;\">\n",
       "      <th></th>\n",
       "      <th>Unnamed: 0</th>\n",
       "      <th>country</th>\n",
       "      <th>state</th>\n",
       "      <th>district</th>\n",
       "      <th>taluka</th>\n",
       "      <th>village</th>\n",
       "    </tr>\n",
       "  </thead>\n",
       "  <tbody>\n",
       "    <tr>\n",
       "      <th>0</th>\n",
       "      <td>0</td>\n",
       "      <td>India</td>\n",
       "      <td>andaman-&amp;-nicobar-islands</td>\n",
       "      <td>nicobars</td>\n",
       "      <td>car-nicobar</td>\n",
       "      <td>arong</td>\n",
       "    </tr>\n",
       "    <tr>\n",
       "      <th>1</th>\n",
       "      <td>1</td>\n",
       "      <td>India</td>\n",
       "      <td>andaman-&amp;-nicobar-islands</td>\n",
       "      <td>nicobars</td>\n",
       "      <td>car-nicobar</td>\n",
       "      <td>big-lapati</td>\n",
       "    </tr>\n",
       "    <tr>\n",
       "      <th>2</th>\n",
       "      <td>2</td>\n",
       "      <td>India</td>\n",
       "      <td>andaman-&amp;-nicobar-islands</td>\n",
       "      <td>nicobars</td>\n",
       "      <td>car-nicobar</td>\n",
       "      <td>chuckchucha</td>\n",
       "    </tr>\n",
       "    <tr>\n",
       "      <th>3</th>\n",
       "      <td>3</td>\n",
       "      <td>India</td>\n",
       "      <td>andaman-&amp;-nicobar-islands</td>\n",
       "      <td>nicobars</td>\n",
       "      <td>car-nicobar</td>\n",
       "      <td>iaf-camp</td>\n",
       "    </tr>\n",
       "    <tr>\n",
       "      <th>4</th>\n",
       "      <td>4</td>\n",
       "      <td>India</td>\n",
       "      <td>andaman-&amp;-nicobar-islands</td>\n",
       "      <td>nicobars</td>\n",
       "      <td>car-nicobar</td>\n",
       "      <td>kakana</td>\n",
       "    </tr>\n",
       "    <tr>\n",
       "      <th>...</th>\n",
       "      <td>...</td>\n",
       "      <td>...</td>\n",
       "      <td>...</td>\n",
       "      <td>...</td>\n",
       "      <td>...</td>\n",
       "      <td>...</td>\n",
       "    </tr>\n",
       "    <tr>\n",
       "      <th>619285</th>\n",
       "      <td>619285</td>\n",
       "      <td>India</td>\n",
       "      <td>west-bengal</td>\n",
       "      <td>uttar-dinajpur</td>\n",
       "      <td>raiganj</td>\n",
       "      <td>teghara</td>\n",
       "    </tr>\n",
       "    <tr>\n",
       "      <th>619286</th>\n",
       "      <td>619286</td>\n",
       "      <td>India</td>\n",
       "      <td>west-bengal</td>\n",
       "      <td>uttar-dinajpur</td>\n",
       "      <td>raiganj</td>\n",
       "      <td>tenahari</td>\n",
       "    </tr>\n",
       "    <tr>\n",
       "      <th>619287</th>\n",
       "      <td>619287</td>\n",
       "      <td>India</td>\n",
       "      <td>west-bengal</td>\n",
       "      <td>uttar-dinajpur</td>\n",
       "      <td>raiganj</td>\n",
       "      <td>tenra</td>\n",
       "    </tr>\n",
       "    <tr>\n",
       "      <th>619288</th>\n",
       "      <td>619288</td>\n",
       "      <td>India</td>\n",
       "      <td>west-bengal</td>\n",
       "      <td>uttar-dinajpur</td>\n",
       "      <td>raiganj</td>\n",
       "      <td>udaypur</td>\n",
       "    </tr>\n",
       "    <tr>\n",
       "      <th>619289</th>\n",
       "      <td>619289</td>\n",
       "      <td>India</td>\n",
       "      <td>west-bengal</td>\n",
       "      <td>uttar-dinajpur</td>\n",
       "      <td>raiganj</td>\n",
       "      <td>uttar-goalpara</td>\n",
       "    </tr>\n",
       "  </tbody>\n",
       "</table>\n",
       "<p>619290 rows × 6 columns</p>\n",
       "</div>"
      ],
      "text/plain": [
       "        Unnamed: 0 country                      state        district  \\\n",
       "0                0   India  andaman-&-nicobar-islands        nicobars   \n",
       "1                1   India  andaman-&-nicobar-islands        nicobars   \n",
       "2                2   India  andaman-&-nicobar-islands        nicobars   \n",
       "3                3   India  andaman-&-nicobar-islands        nicobars   \n",
       "4                4   India  andaman-&-nicobar-islands        nicobars   \n",
       "...            ...     ...                        ...             ...   \n",
       "619285      619285   India                west-bengal  uttar-dinajpur   \n",
       "619286      619286   India                west-bengal  uttar-dinajpur   \n",
       "619287      619287   India                west-bengal  uttar-dinajpur   \n",
       "619288      619288   India                west-bengal  uttar-dinajpur   \n",
       "619289      619289   India                west-bengal  uttar-dinajpur   \n",
       "\n",
       "             taluka         village  \n",
       "0       car-nicobar           arong  \n",
       "1       car-nicobar      big-lapati  \n",
       "2       car-nicobar     chuckchucha  \n",
       "3       car-nicobar        iaf-camp  \n",
       "4       car-nicobar          kakana  \n",
       "...             ...             ...  \n",
       "619285      raiganj         teghara  \n",
       "619286      raiganj        tenahari  \n",
       "619287      raiganj           tenra  \n",
       "619288      raiganj         udaypur  \n",
       "619289      raiganj  uttar-goalpara  \n",
       "\n",
       "[619290 rows x 6 columns]"
      ]
     },
     "execution_count": 23,
     "metadata": {},
     "output_type": "execute_result"
    }
   ],
   "source": [
    "df = pd.read_csv('/kaggle/input/indian-villages-database/indian_villages_database.csv')\n",
    "df"
   ]
  },
  {
   "cell_type": "code",
   "execution_count": 24,
   "id": "dd8ee37e",
   "metadata": {
    "execution": {
     "iopub.execute_input": "2024-05-28T05:17:08.059458Z",
     "iopub.status.busy": "2024-05-28T05:17:08.058055Z",
     "iopub.status.idle": "2024-05-28T05:17:08.063950Z",
     "shell.execute_reply": "2024-05-28T05:17:08.062881Z"
    },
    "papermill": {
     "duration": 0.028525,
     "end_time": "2024-05-28T05:17:08.066977",
     "exception": false,
     "start_time": "2024-05-28T05:17:08.038452",
     "status": "completed"
    },
    "tags": []
   },
   "outputs": [],
   "source": [
    "url_to_hit = \"https://www.geonames.org/advanced-search.html?q=Vinchur%2Cnashik%2Cmaharashtra&country=IN&featureClass=&continentCode=\""
   ]
  },
  {
   "cell_type": "code",
   "execution_count": 25,
   "id": "86c18770",
   "metadata": {
    "execution": {
     "iopub.execute_input": "2024-05-28T05:17:08.101735Z",
     "iopub.status.busy": "2024-05-28T05:17:08.100926Z",
     "iopub.status.idle": "2024-05-28T05:17:08.863728Z",
     "shell.execute_reply": "2024-05-28T05:17:08.862155Z"
    },
    "papermill": {
     "duration": 0.782747,
     "end_time": "2024-05-28T05:17:08.866891",
     "exception": false,
     "start_time": "2024-05-28T05:17:08.084144",
     "status": "completed"
    },
    "tags": []
   },
   "outputs": [],
   "source": [
    "r = rq.get(url_to_hit,headers = headers)"
   ]
  },
  {
   "cell_type": "code",
   "execution_count": 26,
   "id": "04988743",
   "metadata": {
    "execution": {
     "iopub.execute_input": "2024-05-28T05:17:08.897781Z",
     "iopub.status.busy": "2024-05-28T05:17:08.897398Z",
     "iopub.status.idle": "2024-05-28T05:17:08.930474Z",
     "shell.execute_reply": "2024-05-28T05:17:08.928979Z"
    },
    "papermill": {
     "duration": 0.052763,
     "end_time": "2024-05-28T05:17:08.934307",
     "exception": false,
     "start_time": "2024-05-28T05:17:08.881544",
     "status": "completed"
    },
    "tags": []
   },
   "outputs": [],
   "source": [
    "soup = BeautifulSoup(r.text,'html.parser')"
   ]
  },
  {
   "cell_type": "code",
   "execution_count": 27,
   "id": "ea176538",
   "metadata": {
    "execution": {
     "iopub.execute_input": "2024-05-28T05:17:08.969764Z",
     "iopub.status.busy": "2024-05-28T05:17:08.968882Z",
     "iopub.status.idle": "2024-05-28T05:17:08.979721Z",
     "shell.execute_reply": "2024-05-28T05:17:08.978306Z"
    },
    "papermill": {
     "duration": 0.031877,
     "end_time": "2024-05-28T05:17:08.982712",
     "exception": false,
     "start_time": "2024-05-28T05:17:08.950835",
     "status": "completed"
    },
    "tags": []
   },
   "outputs": [
    {
     "data": {
      "text/plain": [
       "<span class=\"latitude\">20.104085</span>"
      ]
     },
     "execution_count": 27,
     "metadata": {},
     "output_type": "execute_result"
    }
   ],
   "source": [
    "soup.find('span',{'class':'latitude'})"
   ]
  },
  {
   "cell_type": "code",
   "execution_count": 28,
   "id": "b580a487",
   "metadata": {
    "execution": {
     "iopub.execute_input": "2024-05-28T05:17:09.017785Z",
     "iopub.status.busy": "2024-05-28T05:17:09.016965Z",
     "iopub.status.idle": "2024-05-28T05:17:09.027290Z",
     "shell.execute_reply": "2024-05-28T05:17:09.026076Z"
    },
    "papermill": {
     "duration": 0.031829,
     "end_time": "2024-05-28T05:17:09.030598",
     "exception": false,
     "start_time": "2024-05-28T05:17:08.998769",
     "status": "completed"
    },
    "tags": []
   },
   "outputs": [
    {
     "data": {
      "text/plain": [
       "<span class=\"longitude\">74.226091</span>"
      ]
     },
     "execution_count": 28,
     "metadata": {},
     "output_type": "execute_result"
    }
   ],
   "source": [
    "soup.find('span',{'class':'longitude'})"
   ]
  },
  {
   "cell_type": "code",
   "execution_count": 29,
   "id": "43e0b8ce",
   "metadata": {
    "execution": {
     "iopub.execute_input": "2024-05-28T05:17:09.066764Z",
     "iopub.status.busy": "2024-05-28T05:17:09.065786Z",
     "iopub.status.idle": "2024-05-28T05:17:15.423892Z",
     "shell.execute_reply": "2024-05-28T05:17:15.422170Z"
    },
    "papermill": {
     "duration": 6.38049,
     "end_time": "2024-05-28T05:17:15.427411",
     "exception": false,
     "start_time": "2024-05-28T05:17:09.046921",
     "status": "completed"
    },
    "tags": []
   },
   "outputs": [
    {
     "name": "stderr",
     "output_type": "stream",
     "text": [
      "9it [00:05,  1.58it/s]"
     ]
    },
    {
     "name": "stdout",
     "output_type": "stream",
     "text": [
      "<span class=\"latitude\">9.1666667</span>\n",
      "<span class=\"longitude\">92.8166667</span>\n"
     ]
    },
    {
     "name": "stderr",
     "output_type": "stream",
     "text": [
      "10it [00:06,  1.58it/s]"
     ]
    },
    {
     "name": "stdout",
     "output_type": "stream",
     "text": [
      "<span class=\"latitude\">9.2333333</span>\n",
      "<span class=\"longitude\">92.7833333</span>\n"
     ]
    },
    {
     "name": "stderr",
     "output_type": "stream",
     "text": [
      "\n"
     ]
    }
   ],
   "source": [
    "latlist = []\n",
    "lonlist = []\n",
    "\n",
    "for index, row in tqdm(df.head(10).iterrows()):\n",
    "    state = row.iloc[2]\n",
    "    district = row.iloc[3]\n",
    "    taluka = row.iloc[4]\n",
    "    village = row.iloc[5]\n",
    "    url_to_hit = f\"https://www.geonames.org/advanced-search.html?q={village}%2C{taluka}%2C{district}%2C{state}&country=IN&featureClass=&continentCode=\"  \n",
    "    r = rq.get(url_to_hit,headers = headers)    \n",
    "    soup = BeautifulSoup(r.text,'html.parser')   \n",
    "    lat = soup.find('span',{'class':'latitude'})    \n",
    "    lon = soup.find('span',{'class':'longitude'})   \n",
    "    if lat is not None and lon is not None:\n",
    "        latlist.append(lat.text)\n",
    "        lonlist.append(lon.text)\n",
    "        print(lat)\n",
    "        print(lon)\n",
    "    else:\n",
    "        latlist.append(None)\n",
    "        lonlist.append(None)"
   ]
  },
  {
   "cell_type": "code",
   "execution_count": 30,
   "id": "a03f649f",
   "metadata": {
    "execution": {
     "iopub.execute_input": "2024-05-28T05:17:15.461623Z",
     "iopub.status.busy": "2024-05-28T05:17:15.461195Z",
     "iopub.status.idle": "2024-05-28T05:17:15.469796Z",
     "shell.execute_reply": "2024-05-28T05:17:15.468304Z"
    },
    "papermill": {
     "duration": 0.028649,
     "end_time": "2024-05-28T05:17:15.472308",
     "exception": false,
     "start_time": "2024-05-28T05:17:15.443659",
     "status": "completed"
    },
    "tags": []
   },
   "outputs": [
    {
     "data": {
      "text/plain": [
       "[None, None, None, None, None, None, None, None, '9.1666667', '9.2333333']"
      ]
     },
     "execution_count": 30,
     "metadata": {},
     "output_type": "execute_result"
    }
   ],
   "source": [
    "latlist"
   ]
  }
 ],
 "metadata": {
  "kaggle": {
   "accelerator": "none",
   "dataSources": [
    {
     "datasetId": 5093156,
     "sourceId": 8528497,
     "sourceType": "datasetVersion"
    }
   ],
   "dockerImageVersionId": 30698,
   "isGpuEnabled": false,
   "isInternetEnabled": true,
   "language": "python",
   "sourceType": "notebook"
  },
  "kernelspec": {
   "display_name": "Python 3",
   "language": "python",
   "name": "python3"
  },
  "language_info": {
   "codemirror_mode": {
    "name": "ipython",
    "version": 3
   },
   "file_extension": ".py",
   "mimetype": "text/x-python",
   "name": "python",
   "nbconvert_exporter": "python",
   "pygments_lexer": "ipython3",
   "version": "3.10.13"
  },
  "papermill": {
   "default_parameters": {},
   "duration": 18.81517,
   "end_time": "2024-05-28T05:17:16.111477",
   "environment_variables": {},
   "exception": null,
   "input_path": "__notebook__.ipynb",
   "output_path": "__notebook__.ipynb",
   "parameters": {},
   "start_time": "2024-05-28T05:16:57.296307",
   "version": "2.5.0"
  }
 },
 "nbformat": 4,
 "nbformat_minor": 5
}
